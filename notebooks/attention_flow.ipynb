{
  "cells": [
    {
      "cell_type": "markdown",
      "metadata": {
        "id": "dntTGM6R3_Vc"
      },
      "source": [
        "# IG Calc & attributions for Hallucinations"
      ]
    },
    {
      "cell_type": "markdown",
      "source": [
        "DeRose et al."
      ],
      "metadata": {
        "id": "qehm6hh1d_43"
      }
    },
    {
      "cell_type": "code",
      "source": [
        "# import os\n",
        "# os.environ['CUDA_LAUNCH_BLOCKING'] = \"1\""
      ],
      "metadata": {
        "id": "Hfy9vbv-Bygw"
      },
      "execution_count": 1,
      "outputs": []
    },
    {
      "cell_type": "code",
      "source": [
        "# !export CUDA_LAUNCH_BLOCKING=1\n",
        "# !export TORCH_USE_CUDA_DSA=1"
      ],
      "metadata": {
        "id": "_PLG-PjeBU9w"
      },
      "execution_count": 2,
      "outputs": []
    },
    {
      "cell_type": "code",
      "source": [
        "# set task and run notebook\n",
        "possible_tasks = ['DM' 'PG' 'MT']\n",
        "tasks_done = [\"DM\", \"PG\"]\n",
        "task = \"MT\""
      ],
      "metadata": {
        "id": "oTHzQjb_-Mi5"
      },
      "execution_count": 3,
      "outputs": []
    },
    {
      "cell_type": "markdown",
      "metadata": {
        "id": "sgs7-cam4Cw7"
      },
      "source": [
        "## Setup"
      ]
    },
    {
      "cell_type": "markdown",
      "metadata": {
        "id": "ni65geZiKrWH"
      },
      "source": [
        "### Install"
      ]
    },
    {
      "cell_type": "code",
      "execution_count": 4,
      "metadata": {
        "colab": {
          "base_uri": "https://localhost:8080/"
        },
        "id": "Cxnwr8FOGm4l",
        "outputId": "51488dbd-7649-474e-df4d-ba9262f96fbb"
      },
      "outputs": [
        {
          "output_type": "stream",
          "name": "stdout",
          "text": [
            "Requirement already satisfied: captum in /usr/local/lib/python3.10/dist-packages (0.7.0)\n",
            "Requirement already satisfied: matplotlib in /usr/local/lib/python3.10/dist-packages (from captum) (3.7.1)\n",
            "Requirement already satisfied: numpy in /usr/local/lib/python3.10/dist-packages (from captum) (1.23.5)\n",
            "Requirement already satisfied: torch>=1.6 in /usr/local/lib/python3.10/dist-packages (from captum) (2.1.0+cu121)\n",
            "Requirement already satisfied: tqdm in /usr/local/lib/python3.10/dist-packages (from captum) (4.66.1)\n",
            "Requirement already satisfied: filelock in /usr/local/lib/python3.10/dist-packages (from torch>=1.6->captum) (3.13.1)\n",
            "Requirement already satisfied: typing-extensions in /usr/local/lib/python3.10/dist-packages (from torch>=1.6->captum) (4.5.0)\n",
            "Requirement already satisfied: sympy in /usr/local/lib/python3.10/dist-packages (from torch>=1.6->captum) (1.12)\n",
            "Requirement already satisfied: networkx in /usr/local/lib/python3.10/dist-packages (from torch>=1.6->captum) (3.2.1)\n",
            "Requirement already satisfied: jinja2 in /usr/local/lib/python3.10/dist-packages (from torch>=1.6->captum) (3.1.3)\n",
            "Requirement already satisfied: fsspec in /usr/local/lib/python3.10/dist-packages (from torch>=1.6->captum) (2023.6.0)\n",
            "Requirement already satisfied: triton==2.1.0 in /usr/local/lib/python3.10/dist-packages (from torch>=1.6->captum) (2.1.0)\n",
            "Requirement already satisfied: contourpy>=1.0.1 in /usr/local/lib/python3.10/dist-packages (from matplotlib->captum) (1.2.0)\n",
            "Requirement already satisfied: cycler>=0.10 in /usr/local/lib/python3.10/dist-packages (from matplotlib->captum) (0.12.1)\n",
            "Requirement already satisfied: fonttools>=4.22.0 in /usr/local/lib/python3.10/dist-packages (from matplotlib->captum) (4.47.2)\n",
            "Requirement already satisfied: kiwisolver>=1.0.1 in /usr/local/lib/python3.10/dist-packages (from matplotlib->captum) (1.4.5)\n",
            "Requirement already satisfied: packaging>=20.0 in /usr/local/lib/python3.10/dist-packages (from matplotlib->captum) (23.2)\n",
            "Requirement already satisfied: pillow>=6.2.0 in /usr/local/lib/python3.10/dist-packages (from matplotlib->captum) (9.4.0)\n",
            "Requirement already satisfied: pyparsing>=2.3.1 in /usr/local/lib/python3.10/dist-packages (from matplotlib->captum) (3.1.1)\n",
            "Requirement already satisfied: python-dateutil>=2.7 in /usr/local/lib/python3.10/dist-packages (from matplotlib->captum) (2.8.2)\n",
            "Requirement already satisfied: six>=1.5 in /usr/local/lib/python3.10/dist-packages (from python-dateutil>=2.7->matplotlib->captum) (1.16.0)\n",
            "Requirement already satisfied: MarkupSafe>=2.0 in /usr/local/lib/python3.10/dist-packages (from jinja2->torch>=1.6->captum) (2.1.4)\n",
            "Requirement already satisfied: mpmath>=0.19 in /usr/local/lib/python3.10/dist-packages (from sympy->torch>=1.6->captum) (1.3.0)\n"
          ]
        }
      ],
      "source": [
        "%pip install captum"
      ]
    },
    {
      "cell_type": "code",
      "execution_count": 5,
      "metadata": {
        "id": "As2aRJPD5cw_"
      },
      "outputs": [],
      "source": [
        "import json\n",
        "import os\n",
        "import random\n",
        "import sys"
      ]
    },
    {
      "cell_type": "code",
      "execution_count": 6,
      "metadata": {
        "id": "T4_mXaTB59cT"
      },
      "outputs": [],
      "source": [
        "import pandas as pd\n",
        "import numpy as np\n",
        "\n",
        "from tqdm import tqdm\n",
        "\n",
        "import torch\n",
        "from captum.attr import IntegratedGradients\n",
        "from torch.nn.functional import softmax\n",
        "\n",
        "import huggingface_hub\n",
        "import transformers\n",
        "from transformers import AutoTokenizer, AutoModelForSeq2SeqLM, T5ForConditionalGeneration"
      ]
    },
    {
      "cell_type": "markdown",
      "metadata": {
        "id": "AY2XNqHyKikK"
      },
      "source": [
        "### Data Loading"
      ]
    },
    {
      "cell_type": "code",
      "execution_count": 7,
      "metadata": {
        "colab": {
          "base_uri": "https://localhost:8080/"
        },
        "id": "zxymde0de3HK",
        "outputId": "95ef7bb0-1e4c-4716-f34c-dd538e5d3965"
      },
      "outputs": [
        {
          "output_type": "stream",
          "name": "stdout",
          "text": [
            "Drive already mounted at /content/drive; to attempt to forcibly remount, call drive.mount(\"/content/drive\", force_remount=True).\n"
          ]
        }
      ],
      "source": [
        "# Load the Drive helper and mount\n",
        "from google.colab import drive\n",
        "drive.mount('/content/drive')"
      ]
    },
    {
      "cell_type": "code",
      "execution_count": 8,
      "metadata": {
        "id": "ZCC3Dwoh4KkV"
      },
      "outputs": [],
      "source": [
        "data_dir = \"/content/drive/MyDrive/SHROOM/data\""
      ]
    },
    {
      "cell_type": "code",
      "execution_count": 9,
      "metadata": {
        "id": "PV7_n4xH5SSN"
      },
      "outputs": [],
      "source": [
        "with open(f\"{data_dir}/SHROOM_unlabeled-training-data-v2/train.model-aware.v2.json\") as f:\n",
        "  train_data = json.load(f)\n",
        "\n",
        "with open(f\"{data_dir}/SHROOM_dev-v2/val.model-aware.v2.json\") as f:\n",
        "  dev_data = json.load(f)\n",
        "\n",
        "with open(f\"{data_dir}/SHROOM_test-unlabeled/test.model-aware.json\") as f:\n",
        "  test_data = json.load(f)\n",
        "\n",
        "with open(f\"{data_dir}/SHROOM_dev-v2/val.model-agnostic.json\") as f:\n",
        "  agnostic_data = json.load(f)"
      ]
    },
    {
      "cell_type": "code",
      "execution_count": 10,
      "metadata": {
        "id": "HQiL8gMVRUTm"
      },
      "outputs": [],
      "source": [
        "def prep_df(json_data):\n",
        "  print(json_data[0])\n",
        "  print(json_data[0].keys())\n",
        "  _df = pd.DataFrame(json_data)\n",
        "  print(_df.task.unique())\n",
        "  _df = _df.query(f\"task == '{task}'\")\n",
        "  # _df = _df.query(\"task == 'PG'\")\n",
        "  _df = _df.reset_index()\n",
        "  return _df"
      ]
    },
    {
      "cell_type": "code",
      "execution_count": 11,
      "metadata": {
        "colab": {
          "base_uri": "https://localhost:8080/"
        },
        "id": "YCG38sI_57GU",
        "outputId": "babd9f71-aea7-4b8c-fb49-4ad0ab06d2c9"
      },
      "outputs": [
        {
          "output_type": "stream",
          "name": "stdout",
          "text": [
            "{'hyp': 'Of or pertaining to the language of a particular area , or to a particular', 'tgt': 'Of or pertaining to everyday language , as opposed to standard , literary , liturgical , or scientific idiom .', 'src': 'There are blacktips , silvertips , bronze whalers , black whalers , spinner sharks , and bignose sharks . these of course are vernacular names , but this is one case where the scientific nomenclature does not clarify the species , since it is now being revised . What is the meaning of vernacular ?', 'ref': 'tgt', 'task': 'DM', 'model': 'ltg/flan-t5-definition-en-base'}\n",
            "dict_keys(['hyp', 'tgt', 'src', 'ref', 'task', 'model'])\n",
            "['DM' 'PG' 'MT']\n",
            "{'hyp': 'A sloping top .', 'ref': 'tgt', 'src': 'The sides of the casket were covered with heavy black broadcloth , with velvet caps , presenting a deep contrast to the rich surmountings . What is the meaning of surmounting ?', 'tgt': 'A decorative feature that sits on top of something .', 'model': 'ltg/flan-t5-definition-en-base', 'task': 'DM', 'labels': ['Not Hallucination', 'Hallucination', 'Not Hallucination', 'Hallucination', 'Hallucination'], 'label': 'Hallucination', 'p(Hallucination)': 0.6}\n",
            "dict_keys(['hyp', 'ref', 'src', 'tgt', 'model', 'task', 'labels', 'label', 'p(Hallucination)'])\n",
            "['DM' 'PG' 'MT']\n",
            "{'hyp': 'Of or pertaining to the language of a particular area , or to a particular', 'tgt': 'Of or pertaining to everyday language , as opposed to standard , literary , liturgical , or scientific idiom .', 'src': 'There are blacktips , silvertips , bronze whalers , black whalers , spinner sharks , and bignose sharks . these of course are vernacular names , but this is one case where the scientific nomenclature does not clarify the species , since it is now being revised . What is the meaning of vernacular ?', 'ref': 'tgt', 'task': 'DM', 'model': 'ltg/flan-t5-definition-en-base'}\n",
            "dict_keys(['hyp', 'tgt', 'src', 'ref', 'task', 'model'])\n",
            "['DM' 'PG' 'MT']\n",
            "{'hyp': 'Resembling or characteristic of a weasel.', 'ref': 'tgt', 'src': 'The writer had just entered into his eighteenth year , when he met at the table of a certain Anglo - Germanist an individual , apparently somewhat under thirty , of middle stature , a thin and <define> weaselly </define> figure , a sallow complexion , a certain obliquity of vision , and a large pair of spectacles .', 'tgt': 'Resembling a weasel (in appearance).', 'model': '', 'task': 'DM', 'labels': ['Hallucination', 'Not Hallucination', 'Not Hallucination', 'Not Hallucination', 'Not Hallucination'], 'label': 'Not Hallucination', 'p(Hallucination)': 0.2}\n",
            "dict_keys(['hyp', 'ref', 'src', 'tgt', 'model', 'task', 'labels', 'label', 'p(Hallucination)'])\n",
            "['DM' 'PG' 'MT']\n"
          ]
        }
      ],
      "source": [
        "train_df = prep_df(train_data)\n",
        "val_df = prep_df(dev_data)\n",
        "test_df = prep_df(train_data)\n",
        "agnostic_df = prep_df(agnostic_data)"
      ]
    },
    {
      "cell_type": "markdown",
      "source": [
        "## Model loading"
      ],
      "metadata": {
        "id": "Dx9BQTySY-s1"
      }
    },
    {
      "cell_type": "code",
      "source": [
        "import torch\n",
        "from transformers import (\n",
        "    AutoTokenizer, AutoModelForSeq2SeqLM, AutoConfig,\n",
        "    T5Config, T5ForConditionalGeneration,\n",
        "    PegasusConfig, PegasusTokenizer, PegasusForConditionalGeneration\n",
        ")\n",
        "\n",
        "device = torch.device(\"cuda\" if torch.cuda.is_available() else \"cpu\")\n",
        "# device = torch.device(\"cpu\")"
      ],
      "metadata": {
        "id": "BkIAs5tnkZzA"
      },
      "execution_count": 14,
      "outputs": []
    },
    {
      "cell_type": "code",
      "source": [
        "torch.cuda.empty_cache()\n",
        "\n",
        "match task:\n",
        "  case \"DM\":\n",
        "    model_config = T5Config.from_pretrained(\"ltg/flan-t5-definition-en-base\", output_attentions=True)\n",
        "    model = T5ForConditionalGeneration.from_pretrained(\"ltg/flan-t5-definition-en-base\", config=model_config).to(device)\n",
        "    tokenizer = AutoTokenizer.from_pretrained(\"ltg/flan-t5-definition-en-base\")\n",
        "  case \"PG\":\n",
        "    model_config = PegasusConfig.from_pretrained(\"tuner007/pegasus_paraphrase\", output_attentions=True)\n",
        "    model = PegasusForConditionalGeneration.from_pretrained(\"tuner007/pegasus_paraphrase\", config=model_config).to(device)\n",
        "    #model = PegasusForConditionalGeneration.from_pretrained(\"tuner007/pegasus_paraphrase\").to(device)\n",
        "    tokenizer = PegasusTokenizer.from_pretrained(\"tuner007/pegasus_paraphrase\")\n",
        "  case \"MT\":\n",
        "    model_config = AutoConfig.from_pretrained(\"facebook/nllb-200-distilled-600M\", output_attentions=True)\n",
        "    model = AutoModelForSeq2SeqLM.from_pretrained(\"facebook/nllb-200-distilled-600M\", config=model_config).to(device)\n",
        "    tokenizer = AutoTokenizer.from_pretrained(\"facebook/nllb-200-distilled-600M\")"
      ],
      "metadata": {
        "id": "9WboFcMo42A0",
        "colab": {
          "base_uri": "https://localhost:8080/",
          "height": 531,
          "referenced_widgets": [
            "c2807b918b404279b7a322c12922b416",
            "d5c0671b108b4896a834e593e718d577",
            "148be167d841475ca3e289560ba84b6a",
            "f6272e1b09b849978eefce6cf4f17b7f",
            "edcfc17791024fa68553709ea27700ea",
            "7508b4a13b0242298157ff8a25f1aea1",
            "192460b5dc2b4ece8e0f55985cf513d7",
            "5c34424a80fe4ba081edd84c6b78e35d",
            "dd5a89c6e2b344b1b63df860ede0d71c",
            "cbeb7f68187f410cb7bc9357dc5c7c55",
            "5348f37d37614de490cb8c5b5d877543",
            "cc6f1518c1ab471d905e6035cfced9b8",
            "35bb1f1890194d0aa6d0ac60fa74f3d4",
            "e5f086a44eaa400e951ff59912e8ccc4",
            "6d2232b6e4614bd398002105c72e2f53",
            "3bbe2cd7ff0b4c56872805ce85a568c8",
            "f5812c7d9f4b43c2bf78774ca863fe01",
            "200ef6e9599449158cb12f139880a329",
            "344efdf056d3474f9a0405658720682b",
            "7dbfad1a615a47509407bd17585c9069",
            "f181792b7f3446da884603b6cf2b5e55",
            "ce21eb88a6fe485aa3bd17614337e991",
            "3c9f8054fafe42f2ad43ae3302b56a92",
            "df75705635134aba9e228d64af919c45",
            "b16fc58f2ea24305acb27dd1dfccb9af",
            "572aea7884444549a8cd03adb249f619",
            "ba867c489caf470daad1eccff4fddae4",
            "22ae636b84304f769a93dcafc226f411",
            "ac7ce5d9b17d46dda09e7d4607096aaa",
            "0eb24d3b69c0461bbefb314e7b3462ce",
            "c9958fbb50c043a3a86a956b3f4347b6",
            "459fdd3e734c427193b2d098a3636cd4",
            "774c072adc684b7bb2d15973985bcccf",
            "8d8301ea4c5043008c760f7fbba0e205",
            "0104dacb69c54857abd214f636dc66de",
            "1b2e93bcccc9446d8e0f6e474fbbce83",
            "f0d895095a17498ba79f9f94b4f0db2f",
            "e35dd1db906f4134a707f4e8ced1f0b4",
            "9ca7b31d12b3406e82a4c4e154ae788b",
            "4104ce6fa50d4c969da3475471874220",
            "62543dc43629444e8e951f8879e88651",
            "bed160bc4eb8489b82aceab6cefc871a",
            "c75917706d7a4e50b48938130cb9b5f5",
            "b7acc39aa36c4fd3ae0314d705eff922",
            "f765c3afcecb4d7f828b2d0ccf0e002c",
            "9e599d251e8e44dfbf4be40506ee9888",
            "3863de2aa0c64bdf9635d17a224ff8cc",
            "e9977e41f5ab4391b71888108a963b25",
            "5315ab6c42a64930a31ec8ed1b792bec",
            "e7bed917f22841999390815cbd85b281",
            "10ab96885491416e86992a880e4a2363",
            "aadce1a613ea429db0fc4a16fb04080a",
            "10077808f89d4e69974b5f45a8224362",
            "8a9428b37bb44896bc905a0563ce0ec3",
            "cf46333646f34a809631b68dd709067e",
            "0baa891fa90c4d03b1c44655dad3d6e3",
            "820bb74973114871b6e92e1844a34631",
            "fdb63e4f73e4429d8ff4e9b996f7e2a7",
            "2a12aa41e80b4e4a81eb4b86189917fd",
            "75fd56a5fa634a7690f951a754564fcb",
            "3649c400a29b45c9bebe41197499f3fc",
            "8b0bf4d127df4d189c30d88eb0ca157f",
            "096fe6329771496ca14f3980611da917",
            "f2acbbb988f84288971a11ff32004462",
            "212a6738957540a7b9702186b2bfccde",
            "10ec0225cf6a458eba950c96fd1b10fe",
            "9670448e62bc4c25a974daa494984c6a",
            "848537dd3ced4413b3e127c3414d2988",
            "20513ca3cb8a46fa9f030a7e1e15add7",
            "12c067ab38404fa48d6283761f1bae1b",
            "c833ed6bd6204a20945b6172032ed9dd",
            "15139904420940e49c8ecde1d47f242e",
            "0b7bd5c3f81848438f9c2efa326206a7",
            "087ecdeb5b594c2f82abd620d02ca5f5",
            "c3157294437d42e5b48ceaa35defafb2",
            "f6abbd3100144803be6f2cc1d128baca",
            "72ad089db65f40f59c69bd8df5e48db7"
          ]
        },
        "outputId": "91829ef6-0aa9-4010-a861-5b1e1477d214"
      },
      "execution_count": 15,
      "outputs": [
        {
          "output_type": "stream",
          "name": "stderr",
          "text": [
            "/usr/local/lib/python3.10/dist-packages/huggingface_hub/utils/_token.py:88: UserWarning: \n",
            "The secret `HF_TOKEN` does not exist in your Colab secrets.\n",
            "To authenticate with the Hugging Face Hub, create a token in your settings tab (https://huggingface.co/settings/tokens), set it as secret in your Google Colab and restart your session.\n",
            "You will be able to reuse this secret in all of your notebooks.\n",
            "Please note that authentication is recommended but still optional to access public models or datasets.\n",
            "  warnings.warn(\n"
          ]
        },
        {
          "output_type": "display_data",
          "data": {
            "text/plain": [
              "config.json:   0%|          | 0.00/846 [00:00<?, ?B/s]"
            ],
            "application/vnd.jupyter.widget-view+json": {
              "version_major": 2,
              "version_minor": 0,
              "model_id": "c2807b918b404279b7a322c12922b416"
            }
          },
          "metadata": {}
        },
        {
          "output_type": "display_data",
          "data": {
            "text/plain": [
              "pytorch_model.bin:   0%|          | 0.00/2.46G [00:00<?, ?B/s]"
            ],
            "application/vnd.jupyter.widget-view+json": {
              "version_major": 2,
              "version_minor": 0,
              "model_id": "cc6f1518c1ab471d905e6035cfced9b8"
            }
          },
          "metadata": {}
        },
        {
          "output_type": "display_data",
          "data": {
            "text/plain": [
              "generation_config.json:   0%|          | 0.00/189 [00:00<?, ?B/s]"
            ],
            "application/vnd.jupyter.widget-view+json": {
              "version_major": 2,
              "version_minor": 0,
              "model_id": "3c9f8054fafe42f2ad43ae3302b56a92"
            }
          },
          "metadata": {}
        },
        {
          "output_type": "display_data",
          "data": {
            "text/plain": [
              "tokenizer_config.json:   0%|          | 0.00/564 [00:00<?, ?B/s]"
            ],
            "application/vnd.jupyter.widget-view+json": {
              "version_major": 2,
              "version_minor": 0,
              "model_id": "8d8301ea4c5043008c760f7fbba0e205"
            }
          },
          "metadata": {}
        },
        {
          "output_type": "display_data",
          "data": {
            "text/plain": [
              "sentencepiece.bpe.model:   0%|          | 0.00/4.85M [00:00<?, ?B/s]"
            ],
            "application/vnd.jupyter.widget-view+json": {
              "version_major": 2,
              "version_minor": 0,
              "model_id": "f765c3afcecb4d7f828b2d0ccf0e002c"
            }
          },
          "metadata": {}
        },
        {
          "output_type": "display_data",
          "data": {
            "text/plain": [
              "tokenizer.json:   0%|          | 0.00/17.3M [00:00<?, ?B/s]"
            ],
            "application/vnd.jupyter.widget-view+json": {
              "version_major": 2,
              "version_minor": 0,
              "model_id": "0baa891fa90c4d03b1c44655dad3d6e3"
            }
          },
          "metadata": {}
        },
        {
          "output_type": "display_data",
          "data": {
            "text/plain": [
              "special_tokens_map.json:   0%|          | 0.00/3.55k [00:00<?, ?B/s]"
            ],
            "application/vnd.jupyter.widget-view+json": {
              "version_major": 2,
              "version_minor": 0,
              "model_id": "9670448e62bc4c25a974daa494984c6a"
            }
          },
          "metadata": {}
        }
      ]
    },
    {
      "cell_type": "markdown",
      "source": [
        "## Attention flow"
      ],
      "metadata": {
        "id": "JnHZ6_2RZDi8"
      }
    },
    {
      "cell_type": "markdown",
      "source": [
        "This is a first check if the calc works"
      ],
      "metadata": {
        "id": "VcSLONQGau1_"
      }
    },
    {
      "cell_type": "code",
      "source": [
        "from transformers import AutoTokenizer\n",
        "from transformers import T5Config, T5ForConditionalGeneration\n",
        "\n",
        "input_text = \"The sides of the casket were covered with heavy black broadcloth, ... What is the meaning of surmounting ?\"\n",
        "inputs = tokenizer.encode_plus(input_text, return_tensors='pt', add_special_tokens=True)\n",
        "encoder_input_ids = inputs['input_ids'].to(device)\n",
        "\n",
        "decoder_input_text = \"The meaning of surmounting is\"\n",
        "decoder_inputs = tokenizer.encode_plus(decoder_input_text, return_tensors='pt', add_special_tokens=True)\n",
        "decoder_input_ids = decoder_inputs['input_ids'].to(device)\n",
        "\n",
        "attention_mask = inputs['attention_mask'].to(device)"
      ],
      "metadata": {
        "id": "oZROVOIOEfao"
      },
      "execution_count": 16,
      "outputs": []
    },
    {
      "cell_type": "code",
      "source": [
        "model.eval()\n",
        "outputs = model(\n",
        "    input_ids=encoder_input_ids,\n",
        "    decoder_input_ids=decoder_input_ids,\n",
        "    attention_mask=attention_mask\n",
        ")"
      ],
      "metadata": {
        "id": "uchxc4Ajtaiu"
      },
      "execution_count": 17,
      "outputs": []
    },
    {
      "cell_type": "code",
      "source": [
        "encoder_attention_layers = outputs.encoder_attentions\n",
        "decoder_attention_layers = outputs.decoder_attentions\n",
        "cross_attention_layers = outputs.cross_attentions"
      ],
      "metadata": {
        "id": "Eyt8RghEa6vI"
      },
      "execution_count": 18,
      "outputs": []
    },
    {
      "cell_type": "markdown",
      "source": [
        "Compute Influence Scores for the Last Layer"
      ],
      "metadata": {
        "id": "bIUyMi_OEVGo"
      }
    },
    {
      "cell_type": "code",
      "source": [
        "last_layer_attention = decoder_attention_layers[-1]\n",
        "token_influence_last_layer = last_layer_attention.sum(dim=1).mean(dim=0)"
      ],
      "metadata": {
        "id": "JXBXiFN4ELNI"
      },
      "execution_count": 19,
      "outputs": []
    },
    {
      "cell_type": "markdown",
      "source": [
        "Propagate Influence Scores Backward:\n",
        "Iteratively propagate scores backward through decoder layers, then through cross-attention to the encoder, and finally through encoder layers."
      ],
      "metadata": {
        "id": "WQP2jw4iETGI"
      }
    },
    {
      "cell_type": "code",
      "source": [
        "# Start with decoder layers\n",
        "decoder_influences = [token_influence_last_layer]\n",
        "for layer_attention in reversed(decoder_attention_layers[:-1]):\n",
        "    influence = layer_attention.sum(dim=1).mean(dim=0) @ decoder_influences[-1]\n",
        "    decoder_influences.append(influence)\n",
        "decoder_influences = decoder_influences[::-1]\n",
        "\n",
        "# prop. from decoder to encoder through cross-attention\n",
        "last_decoder_influence = decoder_influences[-1]\n",
        "cross_attention = cross_attention_layers[-1]\n",
        "encoder_influence_from_decoder = cross_attention.sum(dim=1).mean(dim=0).transpose(-1, -2) @ last_decoder_influence\n",
        "\n",
        "# continue with encoder layers\n",
        "encoder_influences = [encoder_influence_from_decoder]\n",
        "for layer_attention in reversed(encoder_attention_layers):\n",
        "    influence = layer_attention.sum(dim=1).mean(dim=0) @ encoder_influences[-1]\n",
        "    encoder_influences.append(influence)\n",
        "encoder_influences = encoder_influences[::-1]\n"
      ],
      "metadata": {
        "id": "yQutaqhJEO6Q"
      },
      "execution_count": 20,
      "outputs": []
    },
    {
      "cell_type": "markdown",
      "source": [
        "Apply Exponential Decay"
      ],
      "metadata": {
        "id": "gEgt9pTDEvIj"
      }
    },
    {
      "cell_type": "code",
      "source": [
        "decay_factor = 0.9\n",
        "for i, influence_scores in enumerate(decoder_influences + encoder_influences):\n",
        "    (decoder_influences + encoder_influences)[i] = (decay_factor ** i) * influence_scores\n"
      ],
      "metadata": {
        "id": "nM-OSO9HEvWH"
      },
      "execution_count": 21,
      "outputs": []
    },
    {
      "cell_type": "markdown",
      "source": [
        "Aggregate and Normalize the Scores"
      ],
      "metadata": {
        "id": "Bt4HunIzEypi"
      }
    },
    {
      "cell_type": "code",
      "source": [
        "# agg encoder influences\n",
        "aggregated_influence_encoder = torch.stack(encoder_influences).sum(dim=0)\n",
        "normalized_influence_encoder = (aggregated_influence_encoder / aggregated_influence_encoder.sum())[-1]\n",
        "\n",
        "# agg decoder influences\n",
        "aggregated_influence_decoder = torch.stack(decoder_influences).sum(dim=0)\n",
        "normalized_influence_decoder = (aggregated_influence_decoder / aggregated_influence_decoder.sum())"
      ],
      "metadata": {
        "id": "MLywFrOcEz9s"
      },
      "execution_count": 22,
      "outputs": []
    },
    {
      "cell_type": "code",
      "source": [
        "normalized_influence_decoder"
      ],
      "metadata": {
        "colab": {
          "base_uri": "https://localhost:8080/"
        },
        "id": "52Ec3x-w-fp1",
        "outputId": "c29d71c9-9fb1-403c-cb12-278f74e55c2a"
      },
      "execution_count": 23,
      "outputs": [
        {
          "output_type": "execute_result",
          "data": {
            "text/plain": [
              "tensor([[1.1111e-01, 0.0000e+00, 0.0000e+00, 0.0000e+00, 0.0000e+00, 0.0000e+00,\n",
              "         0.0000e+00, 0.0000e+00, 0.0000e+00],\n",
              "        [1.0879e-01, 2.3259e-03, 0.0000e+00, 0.0000e+00, 0.0000e+00, 0.0000e+00,\n",
              "         0.0000e+00, 0.0000e+00, 0.0000e+00],\n",
              "        [1.0593e-01, 4.4717e-03, 7.0542e-04, 0.0000e+00, 0.0000e+00, 0.0000e+00,\n",
              "         0.0000e+00, 0.0000e+00, 0.0000e+00],\n",
              "        [1.0369e-01, 5.3986e-03, 2.0180e-03, 2.9125e-06, 0.0000e+00, 0.0000e+00,\n",
              "         0.0000e+00, 0.0000e+00, 0.0000e+00],\n",
              "        [1.0191e-01, 5.5545e-03, 3.6057e-03, 3.8207e-05, 7.0281e-06, 0.0000e+00,\n",
              "         0.0000e+00, 0.0000e+00, 0.0000e+00],\n",
              "        [9.8723e-02, 6.6751e-03, 5.5473e-03, 1.3329e-04, 3.2475e-05, 3.3770e-08,\n",
              "         0.0000e+00, 0.0000e+00, 0.0000e+00],\n",
              "        [9.5104e-02, 8.2017e-03, 7.3994e-03, 3.1316e-04, 9.2433e-05, 5.8566e-07,\n",
              "         4.2497e-09, 0.0000e+00, 0.0000e+00],\n",
              "        [9.9748e-02, 6.2210e-03, 4.7090e-03, 2.6427e-04, 1.1589e-04, 1.8544e-05,\n",
              "         1.0872e-05, 2.3922e-05, 0.0000e+00],\n",
              "        [9.2013e-02, 9.0866e-03, 8.5072e-03, 8.2902e-04, 4.3325e-04, 8.6316e-05,\n",
              "         4.8748e-05, 1.0600e-04, 1.1454e-06]], device='cuda:0',\n",
              "       grad_fn=<DivBackward0>)"
            ]
          },
          "metadata": {},
          "execution_count": 23
        }
      ]
    },
    {
      "cell_type": "code",
      "source": [
        "del decoder_input_ids, encoder_input_ids, attention_mask, outputs\n",
        "torch.cuda.empty_cache()"
      ],
      "metadata": {
        "id": "xPgtj8gBSRAV"
      },
      "execution_count": 24,
      "outputs": []
    },
    {
      "cell_type": "markdown",
      "source": [
        "## Building a classifier"
      ],
      "metadata": {
        "id": "H2hp9XXAeBDp"
      }
    },
    {
      "cell_type": "code",
      "source": [
        "from sklearn.model_selection import train_test_split\n",
        "from sklearn.ensemble import RandomForestClassifier\n",
        "from sklearn.model_selection import GridSearchCV\n",
        "from sklearn.svm import SVC\n",
        "from sklearn.metrics import accuracy_score, classification_report\n",
        "from sklearn.decomposition import PCA\n",
        "from torch.utils.data import DataLoader, TensorDataset, Dataset"
      ],
      "metadata": {
        "id": "9PxoRgdTeQ8T"
      },
      "execution_count": 25,
      "outputs": []
    },
    {
      "cell_type": "code",
      "source": [
        "class InfluenceDataset(Dataset):\n",
        "    def __init__(self, dataframe, tokenizer, max_len=512):\n",
        "        self.dataframe = dataframe\n",
        "        self.dataframe.reset_index(inplace=True)\n",
        "        self.tokenizer = tokenizer\n",
        "        self.max_len = max_len\n",
        "\n",
        "    def __len__(self):\n",
        "        return len(self.dataframe)\n",
        "\n",
        "    def __getitem__(self, idx):\n",
        "        row = self.dataframe.iloc[idx]\n",
        "\n",
        "        try:\n",
        "            src_encoding = self.tokenizer.encode_plus(\n",
        "                row['src'],\n",
        "                max_length=self.max_len,\n",
        "                padding='max_length',\n",
        "                truncation=True,\n",
        "                return_tensors='pt'\n",
        "            )\n",
        "            hyp_encoding = self.tokenizer.encode_plus(\n",
        "                row['hyp'],\n",
        "                max_length=self.max_len,\n",
        "                padding='max_length',\n",
        "                truncation=True,\n",
        "                return_tensors='pt'\n",
        "            )\n",
        "        except Exception as e:\n",
        "            print(f\"Error processing row {idx}: {e}\")\n",
        "            print(f\"src: {row['src']}, hyp: {row['hyp']}\")\n",
        "\n",
        "            # default values in case of na => tensor of zeros, with shape (1, max_len)\n",
        "            default_value = torch.zeros((1, self.max_len), dtype=torch.long)\n",
        "\n",
        "            src_encoding = {'input_ids': default_value, 'attention_mask': default_value}\n",
        "            hyp_encoding = {'input_ids': default_value, 'attention_mask': default_value}\n",
        "\n",
        "\n",
        "        if \"label\" in row:\n",
        "          label = 1 if row['label'] == \"Hallucination\" else 0\n",
        "        # no label given (can be discared as not used for training but just for inference)\n",
        "        else:\n",
        "          label = \"x\"\n",
        "        return {\n",
        "            'encoder_input_ids': src_encoding['input_ids'].squeeze(),\n",
        "            'decoder_input_ids': hyp_encoding['input_ids'].squeeze(),\n",
        "            'attention_mask': src_encoding['attention_mask'].squeeze(),\n",
        "            \"label\": label\n",
        "        }\n"
      ],
      "metadata": {
        "id": "7rjddXMM9-kC"
      },
      "execution_count": 26,
      "outputs": []
    },
    {
      "cell_type": "code",
      "source": [
        "def get_influences(df, max_len=256):\n",
        "  _df = df.copy()\n",
        "\n",
        "  if max_len == \"auto\":\n",
        "    max_len = len(max(list(_df.src.str.split(\" \"))))\n",
        "    print(\"base max_len = \", max_len)\n",
        "    max_len = int(max_len + 0.15 * max_len)+1 # 15% extra for tokenization puffer\n",
        "\n",
        "  print(\"max_len =\", max_len)\n",
        "\n",
        "  dataset = InfluenceDataset(_df, tokenizer, max_len=max_len)\n",
        "  # print(dataset[0])\n",
        "  # adjust batch_size dep on the GPU\n",
        "  dataloader = DataLoader(dataset, batch_size=8, shuffle=False)\n",
        "  # print(dataloader)\n",
        "\n",
        "  batched_influences = []\n",
        "  all_influences = []\n",
        "  labels = []\n",
        "\n",
        "\n",
        "  # model.to(device)\n",
        "  model.eval()\n",
        "  curr_idx = 0\n",
        "  for batch in tqdm(dataloader):\n",
        "\n",
        "      # print(curr_idx)\n",
        "      # curr_idx += 1\n",
        "\n",
        "      labels.extend(np.array(batch['label']))\n",
        "\n",
        "      with torch.no_grad():\n",
        "        encoder_input_ids = batch['encoder_input_ids'].to(device)\n",
        "        decoder_input_ids = batch['decoder_input_ids'].to(device)\n",
        "        attention_mask = batch['attention_mask'].to(device)\n",
        "\n",
        "        outputs = model(\n",
        "            input_ids=encoder_input_ids,\n",
        "            decoder_input_ids=decoder_input_ids,\n",
        "            attention_mask=attention_mask,\n",
        "            # output_attentions=True\n",
        "        )\n",
        "\n",
        "      # print(batch['encoder_input_ids'].shape)\n",
        "\n",
        "      # print(f\"Shape of encoder_attention_layers: {len(outputs.encoder_attentions)}\")\n",
        "      # print(f\"Shape of decoder_attention_layers: {len(outputs.decoder_attentions)}\")\n",
        "      # print(f\"Shape of cross_attention_layers: {len(outputs.cross_attentions)}\")\n",
        "\n",
        "      encoder_attention_layers = outputs.encoder_attentions\n",
        "      decoder_attention_layers = outputs.decoder_attentions\n",
        "      cross_attention_layers = outputs.cross_attentions\n",
        "      last_layer_attention = decoder_attention_layers[-1]\n",
        "      token_influence_last_layer = last_layer_attention.sum(dim=1).mean(dim=0)\n",
        "\n",
        "      # start with decoder layers\n",
        "      decoder_influences = [token_influence_last_layer]\n",
        "      for layer_attention in reversed(decoder_attention_layers[:-1]):\n",
        "          influence = layer_attention.sum(dim=1).mean(dim=0) @ decoder_influences[-1]\n",
        "          decoder_influences.append(influence)\n",
        "      decoder_influences = decoder_influences[::-1]\n",
        "\n",
        "      # propagate from decoder to encoder through cross-attention\n",
        "      last_decoder_influence = decoder_influences[-1]\n",
        "      cross_attention = cross_attention_layers[-1]\n",
        "      encoder_influence_from_decoder = cross_attention.sum(dim=1).mean(dim=0).transpose(-1, -2) @ last_decoder_influence\n",
        "\n",
        "      # continue with encoder layers\n",
        "      encoder_influences = [encoder_influence_from_decoder]\n",
        "      for layer_attention in reversed(encoder_attention_layers):\n",
        "          influence = layer_attention.sum(dim=1).mean(dim=0) @ encoder_influences[-1]\n",
        "          encoder_influences.append(influence)\n",
        "      encoder_influences = encoder_influences[::-1]\n",
        "\n",
        "      # decay and normalize influences for the entire batch\n",
        "      decay_factor = 0.85\n",
        "      for i, influence_scores in enumerate(decoder_influences + encoder_influences):\n",
        "          (decoder_influences + encoder_influences)[i] = (decay_factor ** i) * influence_scores\n",
        "\n",
        "      # print(batch['encoder_input_ids'].shape)\n",
        "\n",
        "      # print(\"----\")\n",
        "      for idx in range(batch['encoder_input_ids'].shape[0]):\n",
        "          # comp aggregated influence for the idx-th instance in the batch\n",
        "          aggregated_influence_decoder = torch.stack([dec_inf[idx] for dec_inf in decoder_influences]).sum(dim=0)\n",
        "          normalized_influence_decoder = (aggregated_influence_decoder / aggregated_influence_decoder.sum())\n",
        "\n",
        "          # flatten and collect the influences for the idx-th instance in the batch\n",
        "          influences_i = normalized_influence_decoder.view(-1)\n",
        "          all_influences.append(influences_i.cpu().detach().numpy())\n",
        "\n",
        "\n",
        "\n",
        "      del encoder_input_ids, decoder_input_ids, attention_mask, outputs  # Free up memory\n",
        "      torch.cuda.empty_cache()\n",
        "\n",
        "  influences_array = np.stack(all_influences)\n",
        "  labels_array = np.array(labels)\n",
        "\n",
        "  return influences_array, labels_array"
      ],
      "metadata": {
        "id": "N66uaAabeC1K"
      },
      "execution_count": 27,
      "outputs": []
    },
    {
      "cell_type": "code",
      "source": [
        "X, y = get_influences(agnostic_df, max_len = 8)#\"auto\")"
      ],
      "metadata": {
        "id": "3Dxv8X6C2cPi",
        "colab": {
          "base_uri": "https://localhost:8080/"
        },
        "outputId": "4ff33b37-7faa-4dce-f27e-96f036c768af"
      },
      "execution_count": 28,
      "outputs": [
        {
          "output_type": "stream",
          "name": "stdout",
          "text": [
            "max_len = 8\n"
          ]
        },
        {
          "output_type": "stream",
          "name": "stderr",
          "text": [
            "100%|██████████| 24/24 [00:00<00:00, 25.64it/s]\n"
          ]
        }
      ]
    },
    {
      "cell_type": "code",
      "source": [
        "print(X.shape)\n",
        "print(y.shape)"
      ],
      "metadata": {
        "colab": {
          "base_uri": "https://localhost:8080/"
        },
        "id": "IBOXPgRLxkie",
        "outputId": "4a8a5bf5-aede-42d9-a4f8-45c097991ad8"
      },
      "execution_count": 29,
      "outputs": [
        {
          "output_type": "stream",
          "name": "stdout",
          "text": [
            "(187, 8)\n",
            "(187,)\n"
          ]
        }
      ]
    },
    {
      "cell_type": "code",
      "source": [
        "X_train, X_test, y_train, y_test = train_test_split(X, y, test_size=0.2, random_state=1160)"
      ],
      "metadata": {
        "id": "0l4lD7QsgMNb"
      },
      "execution_count": 30,
      "outputs": []
    },
    {
      "cell_type": "code",
      "source": [
        "DO_PCA = True\n",
        "PCA_COMPONENTS = 6\n",
        "GRID_SEARCH = False"
      ],
      "metadata": {
        "id": "KShxuXApSaN8"
      },
      "execution_count": 31,
      "outputs": []
    },
    {
      "cell_type": "code",
      "source": [
        "if DO_PCA:\n",
        "  pca = PCA(n_components=PCA_COMPONENTS)\n",
        "  X_train_ready = pca.fit_transform(X_train)\n",
        "  X_test_ready = pca.transform(X_test)\n",
        "\n",
        "else:\n",
        "  X_train_ready = X_train.copy()\n",
        "  X_test_ready = X_train.copy()\n",
        "\n",
        "clf = SVC(kernel='rbf', random_state=1160)\n",
        "\n",
        "if GRID_SEARCH:\n",
        "  param_grid = {\n",
        "      'C': [0.001, 0.008, 0.1, 1, 10, 100],\n",
        "      'gamma': [0.0001, 0.001, 0.003, 0.2, 0.5, 0.75, 1]\n",
        "  }\n",
        "\n",
        "  grid_search = GridSearchCV(clf, param_grid, cv=4, scoring='accuracy', verbose=2, n_jobs=-1)\n",
        "  grid_search.fit(X_train_ready, y_train)\n",
        "  best_clf = grid_search.best_estimator_\n",
        "  clf = best_clf\n",
        "\n",
        "clf.fit(X_train_ready, y_train)\n",
        "y_pred = clf.predict(X_test_ready)\n",
        "\n",
        "# Evaluation\n",
        "print(f'Accuracy: {accuracy_score(y_test, y_pred)}')\n",
        "# print(classification_report(y_test, y_pred))\n",
        "# print(f'Best parameters: {grid_search.best_params_}')"
      ],
      "metadata": {
        "colab": {
          "base_uri": "https://localhost:8080/"
        },
        "id": "wZrQuQbySZtn",
        "outputId": "da8fa9ca-5a50-4db1-8ed6-c3b5367f0d44"
      },
      "execution_count": 32,
      "outputs": [
        {
          "output_type": "stream",
          "name": "stdout",
          "text": [
            "Accuracy: 0.5789473684210527\n"
          ]
        }
      ]
    },
    {
      "cell_type": "code",
      "source": [
        "def predict_for_set(df):\n",
        "  _df = df.copy()\n",
        "  # ['DM' 'PG' 'MT']\n",
        "  match task:\n",
        "    case \"DM\":\n",
        "      max_len = \"auto\"\n",
        "    case \"PG\":\n",
        "      max_len = 8\n",
        "    case \"MT\":\n",
        "      max_len = 8\n",
        "\n",
        "  X_values, y_values = get_influences(_df, max_len = max_len)\n",
        "  pca = PCA(n_components=PCA_COMPONENTS)\n",
        "  X_values_pca = pca.fit_transform(X_values)\n",
        "  preds = clf.predict(X_values_pca)\n",
        "  _df[\"class\"] = list(map(lambda x: \"Hallucination\" if x == 1 else \"Not Hallucination\", preds))\n",
        "  return _df"
      ],
      "metadata": {
        "id": "lp-krLCwv1iR"
      },
      "execution_count": 44,
      "outputs": []
    },
    {
      "cell_type": "code",
      "source": [
        "val_df_preds = predict_for_set(val_df)\n",
        "val_df_preds.head(2)\n",
        "val_df_preds.to_csv(f\"{task}_validation_results.csv\", index=False)"
      ],
      "metadata": {
        "id": "tEwPLNYlxL84",
        "colab": {
          "base_uri": "https://localhost:8080/"
        },
        "outputId": "43dfb745-2e3f-4fc5-9f37-348fc2dc33a6"
      },
      "execution_count": 45,
      "outputs": [
        {
          "output_type": "stream",
          "name": "stdout",
          "text": [
            "max_len = 8\n"
          ]
        },
        {
          "output_type": "stream",
          "name": "stderr",
          "text": [
            "100%|██████████| 24/24 [00:02<00:00, 10.58it/s]\n"
          ]
        }
      ]
    },
    {
      "cell_type": "code",
      "source": [
        "accuracy_score(val_df_preds[\"label\"], val_df_preds[\"class\"])"
      ],
      "metadata": {
        "id": "83ojEPQX75e_",
        "colab": {
          "base_uri": "https://localhost:8080/"
        },
        "outputId": "969ca3b8-8e48-4466-d9b3-b8fde06d2905"
      },
      "execution_count": 46,
      "outputs": [
        {
          "output_type": "execute_result",
          "data": {
            "text/plain": [
              "0.5159574468085106"
            ]
          },
          "metadata": {},
          "execution_count": 46
        }
      ]
    },
    {
      "cell_type": "code",
      "source": [
        "test_df.shape"
      ],
      "metadata": {
        "id": "QVsQsH3IvE2V",
        "outputId": "e0ed1d03-0f5b-4a80-f1fb-2097378f3171",
        "colab": {
          "base_uri": "https://localhost:8080/"
        }
      },
      "execution_count": 47,
      "outputs": [
        {
          "output_type": "execute_result",
          "data": {
            "text/plain": [
              "(10000, 7)"
            ]
          },
          "metadata": {},
          "execution_count": 47
        }
      ]
    },
    {
      "cell_type": "code",
      "source": [
        "test_df_preds = predict_for_set(\n",
        "    test_df\n",
        ")\n",
        "print(test_df_preds.head(2))\n",
        "test_df_preds.to_csv(\n",
        "    f\"{task}_test_results.csv\", index=False\n",
        ")"
      ],
      "metadata": {
        "id": "WxMeVKVCxMb3",
        "colab": {
          "base_uri": "https://localhost:8080/"
        },
        "outputId": "b672da51-0ae6-4d38-bd7b-5b72cc7253e7"
      },
      "execution_count": 48,
      "outputs": [
        {
          "output_type": "stream",
          "name": "stdout",
          "text": [
            "max_len = 8\n"
          ]
        },
        {
          "output_type": "stream",
          "name": "stderr",
          "text": [
            "100%|██████████| 1250/1250 [00:57<00:00, 21.59it/s]\n"
          ]
        },
        {
          "output_type": "stream",
          "name": "stdout",
          "text": [
            "   index                                                hyp  \\\n",
            "0  20000  These plants get their food from the sun throu...   \n",
            "1  20001  Only the Stanley mining bank around the FIC we...   \n",
            "\n",
            "                                                 tgt  \\\n",
            "0  Plants make their food from the sun by photosy...   \n",
            "1  Money can be exchanged at the only bank in the...   \n",
            "\n",
            "                                                 src     ref task  \\\n",
            "0  Үсемлекләр азыкны фотосинтез юлы белән кояштан...  either   MT   \n",
            "1  Ilé ìfowópamọ́sí tó wà ní erékùsù ní Stanley k...  either   MT   \n",
            "\n",
            "                              model              class  \n",
            "0  facebook/nllb-200-distilled-600M  Not Hallucination  \n",
            "1  facebook/nllb-200-distilled-600M  Not Hallucination  \n"
          ]
        }
      ]
    }
  ],
  "metadata": {
    "colab": {
      "provenance": [],
      "gpuType": "A100"
    },
    "kernelspec": {
      "display_name": "Python 3",
      "name": "python3"
    },
    "language_info": {
      "name": "python"
    },
    "accelerator": "GPU",
    "widgets": {
      "application/vnd.jupyter.widget-state+json": {
        "c2807b918b404279b7a322c12922b416": {
          "model_module": "@jupyter-widgets/controls",
          "model_name": "HBoxModel",
          "model_module_version": "1.5.0",
          "state": {
            "_dom_classes": [],
            "_model_module": "@jupyter-widgets/controls",
            "_model_module_version": "1.5.0",
            "_model_name": "HBoxModel",
            "_view_count": null,
            "_view_module": "@jupyter-widgets/controls",
            "_view_module_version": "1.5.0",
            "_view_name": "HBoxView",
            "box_style": "",
            "children": [
              "IPY_MODEL_d5c0671b108b4896a834e593e718d577",
              "IPY_MODEL_148be167d841475ca3e289560ba84b6a",
              "IPY_MODEL_f6272e1b09b849978eefce6cf4f17b7f"
            ],
            "layout": "IPY_MODEL_edcfc17791024fa68553709ea27700ea"
          }
        },
        "d5c0671b108b4896a834e593e718d577": {
          "model_module": "@jupyter-widgets/controls",
          "model_name": "HTMLModel",
          "model_module_version": "1.5.0",
          "state": {
            "_dom_classes": [],
            "_model_module": "@jupyter-widgets/controls",
            "_model_module_version": "1.5.0",
            "_model_name": "HTMLModel",
            "_view_count": null,
            "_view_module": "@jupyter-widgets/controls",
            "_view_module_version": "1.5.0",
            "_view_name": "HTMLView",
            "description": "",
            "description_tooltip": null,
            "layout": "IPY_MODEL_7508b4a13b0242298157ff8a25f1aea1",
            "placeholder": "​",
            "style": "IPY_MODEL_192460b5dc2b4ece8e0f55985cf513d7",
            "value": "config.json: 100%"
          }
        },
        "148be167d841475ca3e289560ba84b6a": {
          "model_module": "@jupyter-widgets/controls",
          "model_name": "FloatProgressModel",
          "model_module_version": "1.5.0",
          "state": {
            "_dom_classes": [],
            "_model_module": "@jupyter-widgets/controls",
            "_model_module_version": "1.5.0",
            "_model_name": "FloatProgressModel",
            "_view_count": null,
            "_view_module": "@jupyter-widgets/controls",
            "_view_module_version": "1.5.0",
            "_view_name": "ProgressView",
            "bar_style": "success",
            "description": "",
            "description_tooltip": null,
            "layout": "IPY_MODEL_5c34424a80fe4ba081edd84c6b78e35d",
            "max": 846,
            "min": 0,
            "orientation": "horizontal",
            "style": "IPY_MODEL_dd5a89c6e2b344b1b63df860ede0d71c",
            "value": 846
          }
        },
        "f6272e1b09b849978eefce6cf4f17b7f": {
          "model_module": "@jupyter-widgets/controls",
          "model_name": "HTMLModel",
          "model_module_version": "1.5.0",
          "state": {
            "_dom_classes": [],
            "_model_module": "@jupyter-widgets/controls",
            "_model_module_version": "1.5.0",
            "_model_name": "HTMLModel",
            "_view_count": null,
            "_view_module": "@jupyter-widgets/controls",
            "_view_module_version": "1.5.0",
            "_view_name": "HTMLView",
            "description": "",
            "description_tooltip": null,
            "layout": "IPY_MODEL_cbeb7f68187f410cb7bc9357dc5c7c55",
            "placeholder": "​",
            "style": "IPY_MODEL_5348f37d37614de490cb8c5b5d877543",
            "value": " 846/846 [00:00&lt;00:00, 13.4kB/s]"
          }
        },
        "edcfc17791024fa68553709ea27700ea": {
          "model_module": "@jupyter-widgets/base",
          "model_name": "LayoutModel",
          "model_module_version": "1.2.0",
          "state": {
            "_model_module": "@jupyter-widgets/base",
            "_model_module_version": "1.2.0",
            "_model_name": "LayoutModel",
            "_view_count": null,
            "_view_module": "@jupyter-widgets/base",
            "_view_module_version": "1.2.0",
            "_view_name": "LayoutView",
            "align_content": null,
            "align_items": null,
            "align_self": null,
            "border": null,
            "bottom": null,
            "display": null,
            "flex": null,
            "flex_flow": null,
            "grid_area": null,
            "grid_auto_columns": null,
            "grid_auto_flow": null,
            "grid_auto_rows": null,
            "grid_column": null,
            "grid_gap": null,
            "grid_row": null,
            "grid_template_areas": null,
            "grid_template_columns": null,
            "grid_template_rows": null,
            "height": null,
            "justify_content": null,
            "justify_items": null,
            "left": null,
            "margin": null,
            "max_height": null,
            "max_width": null,
            "min_height": null,
            "min_width": null,
            "object_fit": null,
            "object_position": null,
            "order": null,
            "overflow": null,
            "overflow_x": null,
            "overflow_y": null,
            "padding": null,
            "right": null,
            "top": null,
            "visibility": null,
            "width": null
          }
        },
        "7508b4a13b0242298157ff8a25f1aea1": {
          "model_module": "@jupyter-widgets/base",
          "model_name": "LayoutModel",
          "model_module_version": "1.2.0",
          "state": {
            "_model_module": "@jupyter-widgets/base",
            "_model_module_version": "1.2.0",
            "_model_name": "LayoutModel",
            "_view_count": null,
            "_view_module": "@jupyter-widgets/base",
            "_view_module_version": "1.2.0",
            "_view_name": "LayoutView",
            "align_content": null,
            "align_items": null,
            "align_self": null,
            "border": null,
            "bottom": null,
            "display": null,
            "flex": null,
            "flex_flow": null,
            "grid_area": null,
            "grid_auto_columns": null,
            "grid_auto_flow": null,
            "grid_auto_rows": null,
            "grid_column": null,
            "grid_gap": null,
            "grid_row": null,
            "grid_template_areas": null,
            "grid_template_columns": null,
            "grid_template_rows": null,
            "height": null,
            "justify_content": null,
            "justify_items": null,
            "left": null,
            "margin": null,
            "max_height": null,
            "max_width": null,
            "min_height": null,
            "min_width": null,
            "object_fit": null,
            "object_position": null,
            "order": null,
            "overflow": null,
            "overflow_x": null,
            "overflow_y": null,
            "padding": null,
            "right": null,
            "top": null,
            "visibility": null,
            "width": null
          }
        },
        "192460b5dc2b4ece8e0f55985cf513d7": {
          "model_module": "@jupyter-widgets/controls",
          "model_name": "DescriptionStyleModel",
          "model_module_version": "1.5.0",
          "state": {
            "_model_module": "@jupyter-widgets/controls",
            "_model_module_version": "1.5.0",
            "_model_name": "DescriptionStyleModel",
            "_view_count": null,
            "_view_module": "@jupyter-widgets/base",
            "_view_module_version": "1.2.0",
            "_view_name": "StyleView",
            "description_width": ""
          }
        },
        "5c34424a80fe4ba081edd84c6b78e35d": {
          "model_module": "@jupyter-widgets/base",
          "model_name": "LayoutModel",
          "model_module_version": "1.2.0",
          "state": {
            "_model_module": "@jupyter-widgets/base",
            "_model_module_version": "1.2.0",
            "_model_name": "LayoutModel",
            "_view_count": null,
            "_view_module": "@jupyter-widgets/base",
            "_view_module_version": "1.2.0",
            "_view_name": "LayoutView",
            "align_content": null,
            "align_items": null,
            "align_self": null,
            "border": null,
            "bottom": null,
            "display": null,
            "flex": null,
            "flex_flow": null,
            "grid_area": null,
            "grid_auto_columns": null,
            "grid_auto_flow": null,
            "grid_auto_rows": null,
            "grid_column": null,
            "grid_gap": null,
            "grid_row": null,
            "grid_template_areas": null,
            "grid_template_columns": null,
            "grid_template_rows": null,
            "height": null,
            "justify_content": null,
            "justify_items": null,
            "left": null,
            "margin": null,
            "max_height": null,
            "max_width": null,
            "min_height": null,
            "min_width": null,
            "object_fit": null,
            "object_position": null,
            "order": null,
            "overflow": null,
            "overflow_x": null,
            "overflow_y": null,
            "padding": null,
            "right": null,
            "top": null,
            "visibility": null,
            "width": null
          }
        },
        "dd5a89c6e2b344b1b63df860ede0d71c": {
          "model_module": "@jupyter-widgets/controls",
          "model_name": "ProgressStyleModel",
          "model_module_version": "1.5.0",
          "state": {
            "_model_module": "@jupyter-widgets/controls",
            "_model_module_version": "1.5.0",
            "_model_name": "ProgressStyleModel",
            "_view_count": null,
            "_view_module": "@jupyter-widgets/base",
            "_view_module_version": "1.2.0",
            "_view_name": "StyleView",
            "bar_color": null,
            "description_width": ""
          }
        },
        "cbeb7f68187f410cb7bc9357dc5c7c55": {
          "model_module": "@jupyter-widgets/base",
          "model_name": "LayoutModel",
          "model_module_version": "1.2.0",
          "state": {
            "_model_module": "@jupyter-widgets/base",
            "_model_module_version": "1.2.0",
            "_model_name": "LayoutModel",
            "_view_count": null,
            "_view_module": "@jupyter-widgets/base",
            "_view_module_version": "1.2.0",
            "_view_name": "LayoutView",
            "align_content": null,
            "align_items": null,
            "align_self": null,
            "border": null,
            "bottom": null,
            "display": null,
            "flex": null,
            "flex_flow": null,
            "grid_area": null,
            "grid_auto_columns": null,
            "grid_auto_flow": null,
            "grid_auto_rows": null,
            "grid_column": null,
            "grid_gap": null,
            "grid_row": null,
            "grid_template_areas": null,
            "grid_template_columns": null,
            "grid_template_rows": null,
            "height": null,
            "justify_content": null,
            "justify_items": null,
            "left": null,
            "margin": null,
            "max_height": null,
            "max_width": null,
            "min_height": null,
            "min_width": null,
            "object_fit": null,
            "object_position": null,
            "order": null,
            "overflow": null,
            "overflow_x": null,
            "overflow_y": null,
            "padding": null,
            "right": null,
            "top": null,
            "visibility": null,
            "width": null
          }
        },
        "5348f37d37614de490cb8c5b5d877543": {
          "model_module": "@jupyter-widgets/controls",
          "model_name": "DescriptionStyleModel",
          "model_module_version": "1.5.0",
          "state": {
            "_model_module": "@jupyter-widgets/controls",
            "_model_module_version": "1.5.0",
            "_model_name": "DescriptionStyleModel",
            "_view_count": null,
            "_view_module": "@jupyter-widgets/base",
            "_view_module_version": "1.2.0",
            "_view_name": "StyleView",
            "description_width": ""
          }
        },
        "cc6f1518c1ab471d905e6035cfced9b8": {
          "model_module": "@jupyter-widgets/controls",
          "model_name": "HBoxModel",
          "model_module_version": "1.5.0",
          "state": {
            "_dom_classes": [],
            "_model_module": "@jupyter-widgets/controls",
            "_model_module_version": "1.5.0",
            "_model_name": "HBoxModel",
            "_view_count": null,
            "_view_module": "@jupyter-widgets/controls",
            "_view_module_version": "1.5.0",
            "_view_name": "HBoxView",
            "box_style": "",
            "children": [
              "IPY_MODEL_35bb1f1890194d0aa6d0ac60fa74f3d4",
              "IPY_MODEL_e5f086a44eaa400e951ff59912e8ccc4",
              "IPY_MODEL_6d2232b6e4614bd398002105c72e2f53"
            ],
            "layout": "IPY_MODEL_3bbe2cd7ff0b4c56872805ce85a568c8"
          }
        },
        "35bb1f1890194d0aa6d0ac60fa74f3d4": {
          "model_module": "@jupyter-widgets/controls",
          "model_name": "HTMLModel",
          "model_module_version": "1.5.0",
          "state": {
            "_dom_classes": [],
            "_model_module": "@jupyter-widgets/controls",
            "_model_module_version": "1.5.0",
            "_model_name": "HTMLModel",
            "_view_count": null,
            "_view_module": "@jupyter-widgets/controls",
            "_view_module_version": "1.5.0",
            "_view_name": "HTMLView",
            "description": "",
            "description_tooltip": null,
            "layout": "IPY_MODEL_f5812c7d9f4b43c2bf78774ca863fe01",
            "placeholder": "​",
            "style": "IPY_MODEL_200ef6e9599449158cb12f139880a329",
            "value": "pytorch_model.bin: 100%"
          }
        },
        "e5f086a44eaa400e951ff59912e8ccc4": {
          "model_module": "@jupyter-widgets/controls",
          "model_name": "FloatProgressModel",
          "model_module_version": "1.5.0",
          "state": {
            "_dom_classes": [],
            "_model_module": "@jupyter-widgets/controls",
            "_model_module_version": "1.5.0",
            "_model_name": "FloatProgressModel",
            "_view_count": null,
            "_view_module": "@jupyter-widgets/controls",
            "_view_module_version": "1.5.0",
            "_view_name": "ProgressView",
            "bar_style": "success",
            "description": "",
            "description_tooltip": null,
            "layout": "IPY_MODEL_344efdf056d3474f9a0405658720682b",
            "max": 2460457927,
            "min": 0,
            "orientation": "horizontal",
            "style": "IPY_MODEL_7dbfad1a615a47509407bd17585c9069",
            "value": 2460457927
          }
        },
        "6d2232b6e4614bd398002105c72e2f53": {
          "model_module": "@jupyter-widgets/controls",
          "model_name": "HTMLModel",
          "model_module_version": "1.5.0",
          "state": {
            "_dom_classes": [],
            "_model_module": "@jupyter-widgets/controls",
            "_model_module_version": "1.5.0",
            "_model_name": "HTMLModel",
            "_view_count": null,
            "_view_module": "@jupyter-widgets/controls",
            "_view_module_version": "1.5.0",
            "_view_name": "HTMLView",
            "description": "",
            "description_tooltip": null,
            "layout": "IPY_MODEL_f181792b7f3446da884603b6cf2b5e55",
            "placeholder": "​",
            "style": "IPY_MODEL_ce21eb88a6fe485aa3bd17614337e991",
            "value": " 2.46G/2.46G [00:24&lt;00:00, 87.7MB/s]"
          }
        },
        "3bbe2cd7ff0b4c56872805ce85a568c8": {
          "model_module": "@jupyter-widgets/base",
          "model_name": "LayoutModel",
          "model_module_version": "1.2.0",
          "state": {
            "_model_module": "@jupyter-widgets/base",
            "_model_module_version": "1.2.0",
            "_model_name": "LayoutModel",
            "_view_count": null,
            "_view_module": "@jupyter-widgets/base",
            "_view_module_version": "1.2.0",
            "_view_name": "LayoutView",
            "align_content": null,
            "align_items": null,
            "align_self": null,
            "border": null,
            "bottom": null,
            "display": null,
            "flex": null,
            "flex_flow": null,
            "grid_area": null,
            "grid_auto_columns": null,
            "grid_auto_flow": null,
            "grid_auto_rows": null,
            "grid_column": null,
            "grid_gap": null,
            "grid_row": null,
            "grid_template_areas": null,
            "grid_template_columns": null,
            "grid_template_rows": null,
            "height": null,
            "justify_content": null,
            "justify_items": null,
            "left": null,
            "margin": null,
            "max_height": null,
            "max_width": null,
            "min_height": null,
            "min_width": null,
            "object_fit": null,
            "object_position": null,
            "order": null,
            "overflow": null,
            "overflow_x": null,
            "overflow_y": null,
            "padding": null,
            "right": null,
            "top": null,
            "visibility": null,
            "width": null
          }
        },
        "f5812c7d9f4b43c2bf78774ca863fe01": {
          "model_module": "@jupyter-widgets/base",
          "model_name": "LayoutModel",
          "model_module_version": "1.2.0",
          "state": {
            "_model_module": "@jupyter-widgets/base",
            "_model_module_version": "1.2.0",
            "_model_name": "LayoutModel",
            "_view_count": null,
            "_view_module": "@jupyter-widgets/base",
            "_view_module_version": "1.2.0",
            "_view_name": "LayoutView",
            "align_content": null,
            "align_items": null,
            "align_self": null,
            "border": null,
            "bottom": null,
            "display": null,
            "flex": null,
            "flex_flow": null,
            "grid_area": null,
            "grid_auto_columns": null,
            "grid_auto_flow": null,
            "grid_auto_rows": null,
            "grid_column": null,
            "grid_gap": null,
            "grid_row": null,
            "grid_template_areas": null,
            "grid_template_columns": null,
            "grid_template_rows": null,
            "height": null,
            "justify_content": null,
            "justify_items": null,
            "left": null,
            "margin": null,
            "max_height": null,
            "max_width": null,
            "min_height": null,
            "min_width": null,
            "object_fit": null,
            "object_position": null,
            "order": null,
            "overflow": null,
            "overflow_x": null,
            "overflow_y": null,
            "padding": null,
            "right": null,
            "top": null,
            "visibility": null,
            "width": null
          }
        },
        "200ef6e9599449158cb12f139880a329": {
          "model_module": "@jupyter-widgets/controls",
          "model_name": "DescriptionStyleModel",
          "model_module_version": "1.5.0",
          "state": {
            "_model_module": "@jupyter-widgets/controls",
            "_model_module_version": "1.5.0",
            "_model_name": "DescriptionStyleModel",
            "_view_count": null,
            "_view_module": "@jupyter-widgets/base",
            "_view_module_version": "1.2.0",
            "_view_name": "StyleView",
            "description_width": ""
          }
        },
        "344efdf056d3474f9a0405658720682b": {
          "model_module": "@jupyter-widgets/base",
          "model_name": "LayoutModel",
          "model_module_version": "1.2.0",
          "state": {
            "_model_module": "@jupyter-widgets/base",
            "_model_module_version": "1.2.0",
            "_model_name": "LayoutModel",
            "_view_count": null,
            "_view_module": "@jupyter-widgets/base",
            "_view_module_version": "1.2.0",
            "_view_name": "LayoutView",
            "align_content": null,
            "align_items": null,
            "align_self": null,
            "border": null,
            "bottom": null,
            "display": null,
            "flex": null,
            "flex_flow": null,
            "grid_area": null,
            "grid_auto_columns": null,
            "grid_auto_flow": null,
            "grid_auto_rows": null,
            "grid_column": null,
            "grid_gap": null,
            "grid_row": null,
            "grid_template_areas": null,
            "grid_template_columns": null,
            "grid_template_rows": null,
            "height": null,
            "justify_content": null,
            "justify_items": null,
            "left": null,
            "margin": null,
            "max_height": null,
            "max_width": null,
            "min_height": null,
            "min_width": null,
            "object_fit": null,
            "object_position": null,
            "order": null,
            "overflow": null,
            "overflow_x": null,
            "overflow_y": null,
            "padding": null,
            "right": null,
            "top": null,
            "visibility": null,
            "width": null
          }
        },
        "7dbfad1a615a47509407bd17585c9069": {
          "model_module": "@jupyter-widgets/controls",
          "model_name": "ProgressStyleModel",
          "model_module_version": "1.5.0",
          "state": {
            "_model_module": "@jupyter-widgets/controls",
            "_model_module_version": "1.5.0",
            "_model_name": "ProgressStyleModel",
            "_view_count": null,
            "_view_module": "@jupyter-widgets/base",
            "_view_module_version": "1.2.0",
            "_view_name": "StyleView",
            "bar_color": null,
            "description_width": ""
          }
        },
        "f181792b7f3446da884603b6cf2b5e55": {
          "model_module": "@jupyter-widgets/base",
          "model_name": "LayoutModel",
          "model_module_version": "1.2.0",
          "state": {
            "_model_module": "@jupyter-widgets/base",
            "_model_module_version": "1.2.0",
            "_model_name": "LayoutModel",
            "_view_count": null,
            "_view_module": "@jupyter-widgets/base",
            "_view_module_version": "1.2.0",
            "_view_name": "LayoutView",
            "align_content": null,
            "align_items": null,
            "align_self": null,
            "border": null,
            "bottom": null,
            "display": null,
            "flex": null,
            "flex_flow": null,
            "grid_area": null,
            "grid_auto_columns": null,
            "grid_auto_flow": null,
            "grid_auto_rows": null,
            "grid_column": null,
            "grid_gap": null,
            "grid_row": null,
            "grid_template_areas": null,
            "grid_template_columns": null,
            "grid_template_rows": null,
            "height": null,
            "justify_content": null,
            "justify_items": null,
            "left": null,
            "margin": null,
            "max_height": null,
            "max_width": null,
            "min_height": null,
            "min_width": null,
            "object_fit": null,
            "object_position": null,
            "order": null,
            "overflow": null,
            "overflow_x": null,
            "overflow_y": null,
            "padding": null,
            "right": null,
            "top": null,
            "visibility": null,
            "width": null
          }
        },
        "ce21eb88a6fe485aa3bd17614337e991": {
          "model_module": "@jupyter-widgets/controls",
          "model_name": "DescriptionStyleModel",
          "model_module_version": "1.5.0",
          "state": {
            "_model_module": "@jupyter-widgets/controls",
            "_model_module_version": "1.5.0",
            "_model_name": "DescriptionStyleModel",
            "_view_count": null,
            "_view_module": "@jupyter-widgets/base",
            "_view_module_version": "1.2.0",
            "_view_name": "StyleView",
            "description_width": ""
          }
        },
        "3c9f8054fafe42f2ad43ae3302b56a92": {
          "model_module": "@jupyter-widgets/controls",
          "model_name": "HBoxModel",
          "model_module_version": "1.5.0",
          "state": {
            "_dom_classes": [],
            "_model_module": "@jupyter-widgets/controls",
            "_model_module_version": "1.5.0",
            "_model_name": "HBoxModel",
            "_view_count": null,
            "_view_module": "@jupyter-widgets/controls",
            "_view_module_version": "1.5.0",
            "_view_name": "HBoxView",
            "box_style": "",
            "children": [
              "IPY_MODEL_df75705635134aba9e228d64af919c45",
              "IPY_MODEL_b16fc58f2ea24305acb27dd1dfccb9af",
              "IPY_MODEL_572aea7884444549a8cd03adb249f619"
            ],
            "layout": "IPY_MODEL_ba867c489caf470daad1eccff4fddae4"
          }
        },
        "df75705635134aba9e228d64af919c45": {
          "model_module": "@jupyter-widgets/controls",
          "model_name": "HTMLModel",
          "model_module_version": "1.5.0",
          "state": {
            "_dom_classes": [],
            "_model_module": "@jupyter-widgets/controls",
            "_model_module_version": "1.5.0",
            "_model_name": "HTMLModel",
            "_view_count": null,
            "_view_module": "@jupyter-widgets/controls",
            "_view_module_version": "1.5.0",
            "_view_name": "HTMLView",
            "description": "",
            "description_tooltip": null,
            "layout": "IPY_MODEL_22ae636b84304f769a93dcafc226f411",
            "placeholder": "​",
            "style": "IPY_MODEL_ac7ce5d9b17d46dda09e7d4607096aaa",
            "value": "generation_config.json: 100%"
          }
        },
        "b16fc58f2ea24305acb27dd1dfccb9af": {
          "model_module": "@jupyter-widgets/controls",
          "model_name": "FloatProgressModel",
          "model_module_version": "1.5.0",
          "state": {
            "_dom_classes": [],
            "_model_module": "@jupyter-widgets/controls",
            "_model_module_version": "1.5.0",
            "_model_name": "FloatProgressModel",
            "_view_count": null,
            "_view_module": "@jupyter-widgets/controls",
            "_view_module_version": "1.5.0",
            "_view_name": "ProgressView",
            "bar_style": "success",
            "description": "",
            "description_tooltip": null,
            "layout": "IPY_MODEL_0eb24d3b69c0461bbefb314e7b3462ce",
            "max": 189,
            "min": 0,
            "orientation": "horizontal",
            "style": "IPY_MODEL_c9958fbb50c043a3a86a956b3f4347b6",
            "value": 189
          }
        },
        "572aea7884444549a8cd03adb249f619": {
          "model_module": "@jupyter-widgets/controls",
          "model_name": "HTMLModel",
          "model_module_version": "1.5.0",
          "state": {
            "_dom_classes": [],
            "_model_module": "@jupyter-widgets/controls",
            "_model_module_version": "1.5.0",
            "_model_name": "HTMLModel",
            "_view_count": null,
            "_view_module": "@jupyter-widgets/controls",
            "_view_module_version": "1.5.0",
            "_view_name": "HTMLView",
            "description": "",
            "description_tooltip": null,
            "layout": "IPY_MODEL_459fdd3e734c427193b2d098a3636cd4",
            "placeholder": "​",
            "style": "IPY_MODEL_774c072adc684b7bb2d15973985bcccf",
            "value": " 189/189 [00:00&lt;00:00, 10.1kB/s]"
          }
        },
        "ba867c489caf470daad1eccff4fddae4": {
          "model_module": "@jupyter-widgets/base",
          "model_name": "LayoutModel",
          "model_module_version": "1.2.0",
          "state": {
            "_model_module": "@jupyter-widgets/base",
            "_model_module_version": "1.2.0",
            "_model_name": "LayoutModel",
            "_view_count": null,
            "_view_module": "@jupyter-widgets/base",
            "_view_module_version": "1.2.0",
            "_view_name": "LayoutView",
            "align_content": null,
            "align_items": null,
            "align_self": null,
            "border": null,
            "bottom": null,
            "display": null,
            "flex": null,
            "flex_flow": null,
            "grid_area": null,
            "grid_auto_columns": null,
            "grid_auto_flow": null,
            "grid_auto_rows": null,
            "grid_column": null,
            "grid_gap": null,
            "grid_row": null,
            "grid_template_areas": null,
            "grid_template_columns": null,
            "grid_template_rows": null,
            "height": null,
            "justify_content": null,
            "justify_items": null,
            "left": null,
            "margin": null,
            "max_height": null,
            "max_width": null,
            "min_height": null,
            "min_width": null,
            "object_fit": null,
            "object_position": null,
            "order": null,
            "overflow": null,
            "overflow_x": null,
            "overflow_y": null,
            "padding": null,
            "right": null,
            "top": null,
            "visibility": null,
            "width": null
          }
        },
        "22ae636b84304f769a93dcafc226f411": {
          "model_module": "@jupyter-widgets/base",
          "model_name": "LayoutModel",
          "model_module_version": "1.2.0",
          "state": {
            "_model_module": "@jupyter-widgets/base",
            "_model_module_version": "1.2.0",
            "_model_name": "LayoutModel",
            "_view_count": null,
            "_view_module": "@jupyter-widgets/base",
            "_view_module_version": "1.2.0",
            "_view_name": "LayoutView",
            "align_content": null,
            "align_items": null,
            "align_self": null,
            "border": null,
            "bottom": null,
            "display": null,
            "flex": null,
            "flex_flow": null,
            "grid_area": null,
            "grid_auto_columns": null,
            "grid_auto_flow": null,
            "grid_auto_rows": null,
            "grid_column": null,
            "grid_gap": null,
            "grid_row": null,
            "grid_template_areas": null,
            "grid_template_columns": null,
            "grid_template_rows": null,
            "height": null,
            "justify_content": null,
            "justify_items": null,
            "left": null,
            "margin": null,
            "max_height": null,
            "max_width": null,
            "min_height": null,
            "min_width": null,
            "object_fit": null,
            "object_position": null,
            "order": null,
            "overflow": null,
            "overflow_x": null,
            "overflow_y": null,
            "padding": null,
            "right": null,
            "top": null,
            "visibility": null,
            "width": null
          }
        },
        "ac7ce5d9b17d46dda09e7d4607096aaa": {
          "model_module": "@jupyter-widgets/controls",
          "model_name": "DescriptionStyleModel",
          "model_module_version": "1.5.0",
          "state": {
            "_model_module": "@jupyter-widgets/controls",
            "_model_module_version": "1.5.0",
            "_model_name": "DescriptionStyleModel",
            "_view_count": null,
            "_view_module": "@jupyter-widgets/base",
            "_view_module_version": "1.2.0",
            "_view_name": "StyleView",
            "description_width": ""
          }
        },
        "0eb24d3b69c0461bbefb314e7b3462ce": {
          "model_module": "@jupyter-widgets/base",
          "model_name": "LayoutModel",
          "model_module_version": "1.2.0",
          "state": {
            "_model_module": "@jupyter-widgets/base",
            "_model_module_version": "1.2.0",
            "_model_name": "LayoutModel",
            "_view_count": null,
            "_view_module": "@jupyter-widgets/base",
            "_view_module_version": "1.2.0",
            "_view_name": "LayoutView",
            "align_content": null,
            "align_items": null,
            "align_self": null,
            "border": null,
            "bottom": null,
            "display": null,
            "flex": null,
            "flex_flow": null,
            "grid_area": null,
            "grid_auto_columns": null,
            "grid_auto_flow": null,
            "grid_auto_rows": null,
            "grid_column": null,
            "grid_gap": null,
            "grid_row": null,
            "grid_template_areas": null,
            "grid_template_columns": null,
            "grid_template_rows": null,
            "height": null,
            "justify_content": null,
            "justify_items": null,
            "left": null,
            "margin": null,
            "max_height": null,
            "max_width": null,
            "min_height": null,
            "min_width": null,
            "object_fit": null,
            "object_position": null,
            "order": null,
            "overflow": null,
            "overflow_x": null,
            "overflow_y": null,
            "padding": null,
            "right": null,
            "top": null,
            "visibility": null,
            "width": null
          }
        },
        "c9958fbb50c043a3a86a956b3f4347b6": {
          "model_module": "@jupyter-widgets/controls",
          "model_name": "ProgressStyleModel",
          "model_module_version": "1.5.0",
          "state": {
            "_model_module": "@jupyter-widgets/controls",
            "_model_module_version": "1.5.0",
            "_model_name": "ProgressStyleModel",
            "_view_count": null,
            "_view_module": "@jupyter-widgets/base",
            "_view_module_version": "1.2.0",
            "_view_name": "StyleView",
            "bar_color": null,
            "description_width": ""
          }
        },
        "459fdd3e734c427193b2d098a3636cd4": {
          "model_module": "@jupyter-widgets/base",
          "model_name": "LayoutModel",
          "model_module_version": "1.2.0",
          "state": {
            "_model_module": "@jupyter-widgets/base",
            "_model_module_version": "1.2.0",
            "_model_name": "LayoutModel",
            "_view_count": null,
            "_view_module": "@jupyter-widgets/base",
            "_view_module_version": "1.2.0",
            "_view_name": "LayoutView",
            "align_content": null,
            "align_items": null,
            "align_self": null,
            "border": null,
            "bottom": null,
            "display": null,
            "flex": null,
            "flex_flow": null,
            "grid_area": null,
            "grid_auto_columns": null,
            "grid_auto_flow": null,
            "grid_auto_rows": null,
            "grid_column": null,
            "grid_gap": null,
            "grid_row": null,
            "grid_template_areas": null,
            "grid_template_columns": null,
            "grid_template_rows": null,
            "height": null,
            "justify_content": null,
            "justify_items": null,
            "left": null,
            "margin": null,
            "max_height": null,
            "max_width": null,
            "min_height": null,
            "min_width": null,
            "object_fit": null,
            "object_position": null,
            "order": null,
            "overflow": null,
            "overflow_x": null,
            "overflow_y": null,
            "padding": null,
            "right": null,
            "top": null,
            "visibility": null,
            "width": null
          }
        },
        "774c072adc684b7bb2d15973985bcccf": {
          "model_module": "@jupyter-widgets/controls",
          "model_name": "DescriptionStyleModel",
          "model_module_version": "1.5.0",
          "state": {
            "_model_module": "@jupyter-widgets/controls",
            "_model_module_version": "1.5.0",
            "_model_name": "DescriptionStyleModel",
            "_view_count": null,
            "_view_module": "@jupyter-widgets/base",
            "_view_module_version": "1.2.0",
            "_view_name": "StyleView",
            "description_width": ""
          }
        },
        "8d8301ea4c5043008c760f7fbba0e205": {
          "model_module": "@jupyter-widgets/controls",
          "model_name": "HBoxModel",
          "model_module_version": "1.5.0",
          "state": {
            "_dom_classes": [],
            "_model_module": "@jupyter-widgets/controls",
            "_model_module_version": "1.5.0",
            "_model_name": "HBoxModel",
            "_view_count": null,
            "_view_module": "@jupyter-widgets/controls",
            "_view_module_version": "1.5.0",
            "_view_name": "HBoxView",
            "box_style": "",
            "children": [
              "IPY_MODEL_0104dacb69c54857abd214f636dc66de",
              "IPY_MODEL_1b2e93bcccc9446d8e0f6e474fbbce83",
              "IPY_MODEL_f0d895095a17498ba79f9f94b4f0db2f"
            ],
            "layout": "IPY_MODEL_e35dd1db906f4134a707f4e8ced1f0b4"
          }
        },
        "0104dacb69c54857abd214f636dc66de": {
          "model_module": "@jupyter-widgets/controls",
          "model_name": "HTMLModel",
          "model_module_version": "1.5.0",
          "state": {
            "_dom_classes": [],
            "_model_module": "@jupyter-widgets/controls",
            "_model_module_version": "1.5.0",
            "_model_name": "HTMLModel",
            "_view_count": null,
            "_view_module": "@jupyter-widgets/controls",
            "_view_module_version": "1.5.0",
            "_view_name": "HTMLView",
            "description": "",
            "description_tooltip": null,
            "layout": "IPY_MODEL_9ca7b31d12b3406e82a4c4e154ae788b",
            "placeholder": "​",
            "style": "IPY_MODEL_4104ce6fa50d4c969da3475471874220",
            "value": "tokenizer_config.json: 100%"
          }
        },
        "1b2e93bcccc9446d8e0f6e474fbbce83": {
          "model_module": "@jupyter-widgets/controls",
          "model_name": "FloatProgressModel",
          "model_module_version": "1.5.0",
          "state": {
            "_dom_classes": [],
            "_model_module": "@jupyter-widgets/controls",
            "_model_module_version": "1.5.0",
            "_model_name": "FloatProgressModel",
            "_view_count": null,
            "_view_module": "@jupyter-widgets/controls",
            "_view_module_version": "1.5.0",
            "_view_name": "ProgressView",
            "bar_style": "success",
            "description": "",
            "description_tooltip": null,
            "layout": "IPY_MODEL_62543dc43629444e8e951f8879e88651",
            "max": 564,
            "min": 0,
            "orientation": "horizontal",
            "style": "IPY_MODEL_bed160bc4eb8489b82aceab6cefc871a",
            "value": 564
          }
        },
        "f0d895095a17498ba79f9f94b4f0db2f": {
          "model_module": "@jupyter-widgets/controls",
          "model_name": "HTMLModel",
          "model_module_version": "1.5.0",
          "state": {
            "_dom_classes": [],
            "_model_module": "@jupyter-widgets/controls",
            "_model_module_version": "1.5.0",
            "_model_name": "HTMLModel",
            "_view_count": null,
            "_view_module": "@jupyter-widgets/controls",
            "_view_module_version": "1.5.0",
            "_view_name": "HTMLView",
            "description": "",
            "description_tooltip": null,
            "layout": "IPY_MODEL_c75917706d7a4e50b48938130cb9b5f5",
            "placeholder": "​",
            "style": "IPY_MODEL_b7acc39aa36c4fd3ae0314d705eff922",
            "value": " 564/564 [00:00&lt;00:00, 34.1kB/s]"
          }
        },
        "e35dd1db906f4134a707f4e8ced1f0b4": {
          "model_module": "@jupyter-widgets/base",
          "model_name": "LayoutModel",
          "model_module_version": "1.2.0",
          "state": {
            "_model_module": "@jupyter-widgets/base",
            "_model_module_version": "1.2.0",
            "_model_name": "LayoutModel",
            "_view_count": null,
            "_view_module": "@jupyter-widgets/base",
            "_view_module_version": "1.2.0",
            "_view_name": "LayoutView",
            "align_content": null,
            "align_items": null,
            "align_self": null,
            "border": null,
            "bottom": null,
            "display": null,
            "flex": null,
            "flex_flow": null,
            "grid_area": null,
            "grid_auto_columns": null,
            "grid_auto_flow": null,
            "grid_auto_rows": null,
            "grid_column": null,
            "grid_gap": null,
            "grid_row": null,
            "grid_template_areas": null,
            "grid_template_columns": null,
            "grid_template_rows": null,
            "height": null,
            "justify_content": null,
            "justify_items": null,
            "left": null,
            "margin": null,
            "max_height": null,
            "max_width": null,
            "min_height": null,
            "min_width": null,
            "object_fit": null,
            "object_position": null,
            "order": null,
            "overflow": null,
            "overflow_x": null,
            "overflow_y": null,
            "padding": null,
            "right": null,
            "top": null,
            "visibility": null,
            "width": null
          }
        },
        "9ca7b31d12b3406e82a4c4e154ae788b": {
          "model_module": "@jupyter-widgets/base",
          "model_name": "LayoutModel",
          "model_module_version": "1.2.0",
          "state": {
            "_model_module": "@jupyter-widgets/base",
            "_model_module_version": "1.2.0",
            "_model_name": "LayoutModel",
            "_view_count": null,
            "_view_module": "@jupyter-widgets/base",
            "_view_module_version": "1.2.0",
            "_view_name": "LayoutView",
            "align_content": null,
            "align_items": null,
            "align_self": null,
            "border": null,
            "bottom": null,
            "display": null,
            "flex": null,
            "flex_flow": null,
            "grid_area": null,
            "grid_auto_columns": null,
            "grid_auto_flow": null,
            "grid_auto_rows": null,
            "grid_column": null,
            "grid_gap": null,
            "grid_row": null,
            "grid_template_areas": null,
            "grid_template_columns": null,
            "grid_template_rows": null,
            "height": null,
            "justify_content": null,
            "justify_items": null,
            "left": null,
            "margin": null,
            "max_height": null,
            "max_width": null,
            "min_height": null,
            "min_width": null,
            "object_fit": null,
            "object_position": null,
            "order": null,
            "overflow": null,
            "overflow_x": null,
            "overflow_y": null,
            "padding": null,
            "right": null,
            "top": null,
            "visibility": null,
            "width": null
          }
        },
        "4104ce6fa50d4c969da3475471874220": {
          "model_module": "@jupyter-widgets/controls",
          "model_name": "DescriptionStyleModel",
          "model_module_version": "1.5.0",
          "state": {
            "_model_module": "@jupyter-widgets/controls",
            "_model_module_version": "1.5.0",
            "_model_name": "DescriptionStyleModel",
            "_view_count": null,
            "_view_module": "@jupyter-widgets/base",
            "_view_module_version": "1.2.0",
            "_view_name": "StyleView",
            "description_width": ""
          }
        },
        "62543dc43629444e8e951f8879e88651": {
          "model_module": "@jupyter-widgets/base",
          "model_name": "LayoutModel",
          "model_module_version": "1.2.0",
          "state": {
            "_model_module": "@jupyter-widgets/base",
            "_model_module_version": "1.2.0",
            "_model_name": "LayoutModel",
            "_view_count": null,
            "_view_module": "@jupyter-widgets/base",
            "_view_module_version": "1.2.0",
            "_view_name": "LayoutView",
            "align_content": null,
            "align_items": null,
            "align_self": null,
            "border": null,
            "bottom": null,
            "display": null,
            "flex": null,
            "flex_flow": null,
            "grid_area": null,
            "grid_auto_columns": null,
            "grid_auto_flow": null,
            "grid_auto_rows": null,
            "grid_column": null,
            "grid_gap": null,
            "grid_row": null,
            "grid_template_areas": null,
            "grid_template_columns": null,
            "grid_template_rows": null,
            "height": null,
            "justify_content": null,
            "justify_items": null,
            "left": null,
            "margin": null,
            "max_height": null,
            "max_width": null,
            "min_height": null,
            "min_width": null,
            "object_fit": null,
            "object_position": null,
            "order": null,
            "overflow": null,
            "overflow_x": null,
            "overflow_y": null,
            "padding": null,
            "right": null,
            "top": null,
            "visibility": null,
            "width": null
          }
        },
        "bed160bc4eb8489b82aceab6cefc871a": {
          "model_module": "@jupyter-widgets/controls",
          "model_name": "ProgressStyleModel",
          "model_module_version": "1.5.0",
          "state": {
            "_model_module": "@jupyter-widgets/controls",
            "_model_module_version": "1.5.0",
            "_model_name": "ProgressStyleModel",
            "_view_count": null,
            "_view_module": "@jupyter-widgets/base",
            "_view_module_version": "1.2.0",
            "_view_name": "StyleView",
            "bar_color": null,
            "description_width": ""
          }
        },
        "c75917706d7a4e50b48938130cb9b5f5": {
          "model_module": "@jupyter-widgets/base",
          "model_name": "LayoutModel",
          "model_module_version": "1.2.0",
          "state": {
            "_model_module": "@jupyter-widgets/base",
            "_model_module_version": "1.2.0",
            "_model_name": "LayoutModel",
            "_view_count": null,
            "_view_module": "@jupyter-widgets/base",
            "_view_module_version": "1.2.0",
            "_view_name": "LayoutView",
            "align_content": null,
            "align_items": null,
            "align_self": null,
            "border": null,
            "bottom": null,
            "display": null,
            "flex": null,
            "flex_flow": null,
            "grid_area": null,
            "grid_auto_columns": null,
            "grid_auto_flow": null,
            "grid_auto_rows": null,
            "grid_column": null,
            "grid_gap": null,
            "grid_row": null,
            "grid_template_areas": null,
            "grid_template_columns": null,
            "grid_template_rows": null,
            "height": null,
            "justify_content": null,
            "justify_items": null,
            "left": null,
            "margin": null,
            "max_height": null,
            "max_width": null,
            "min_height": null,
            "min_width": null,
            "object_fit": null,
            "object_position": null,
            "order": null,
            "overflow": null,
            "overflow_x": null,
            "overflow_y": null,
            "padding": null,
            "right": null,
            "top": null,
            "visibility": null,
            "width": null
          }
        },
        "b7acc39aa36c4fd3ae0314d705eff922": {
          "model_module": "@jupyter-widgets/controls",
          "model_name": "DescriptionStyleModel",
          "model_module_version": "1.5.0",
          "state": {
            "_model_module": "@jupyter-widgets/controls",
            "_model_module_version": "1.5.0",
            "_model_name": "DescriptionStyleModel",
            "_view_count": null,
            "_view_module": "@jupyter-widgets/base",
            "_view_module_version": "1.2.0",
            "_view_name": "StyleView",
            "description_width": ""
          }
        },
        "f765c3afcecb4d7f828b2d0ccf0e002c": {
          "model_module": "@jupyter-widgets/controls",
          "model_name": "HBoxModel",
          "model_module_version": "1.5.0",
          "state": {
            "_dom_classes": [],
            "_model_module": "@jupyter-widgets/controls",
            "_model_module_version": "1.5.0",
            "_model_name": "HBoxModel",
            "_view_count": null,
            "_view_module": "@jupyter-widgets/controls",
            "_view_module_version": "1.5.0",
            "_view_name": "HBoxView",
            "box_style": "",
            "children": [
              "IPY_MODEL_9e599d251e8e44dfbf4be40506ee9888",
              "IPY_MODEL_3863de2aa0c64bdf9635d17a224ff8cc",
              "IPY_MODEL_e9977e41f5ab4391b71888108a963b25"
            ],
            "layout": "IPY_MODEL_5315ab6c42a64930a31ec8ed1b792bec"
          }
        },
        "9e599d251e8e44dfbf4be40506ee9888": {
          "model_module": "@jupyter-widgets/controls",
          "model_name": "HTMLModel",
          "model_module_version": "1.5.0",
          "state": {
            "_dom_classes": [],
            "_model_module": "@jupyter-widgets/controls",
            "_model_module_version": "1.5.0",
            "_model_name": "HTMLModel",
            "_view_count": null,
            "_view_module": "@jupyter-widgets/controls",
            "_view_module_version": "1.5.0",
            "_view_name": "HTMLView",
            "description": "",
            "description_tooltip": null,
            "layout": "IPY_MODEL_e7bed917f22841999390815cbd85b281",
            "placeholder": "​",
            "style": "IPY_MODEL_10ab96885491416e86992a880e4a2363",
            "value": "sentencepiece.bpe.model: 100%"
          }
        },
        "3863de2aa0c64bdf9635d17a224ff8cc": {
          "model_module": "@jupyter-widgets/controls",
          "model_name": "FloatProgressModel",
          "model_module_version": "1.5.0",
          "state": {
            "_dom_classes": [],
            "_model_module": "@jupyter-widgets/controls",
            "_model_module_version": "1.5.0",
            "_model_name": "FloatProgressModel",
            "_view_count": null,
            "_view_module": "@jupyter-widgets/controls",
            "_view_module_version": "1.5.0",
            "_view_name": "ProgressView",
            "bar_style": "success",
            "description": "",
            "description_tooltip": null,
            "layout": "IPY_MODEL_aadce1a613ea429db0fc4a16fb04080a",
            "max": 4852054,
            "min": 0,
            "orientation": "horizontal",
            "style": "IPY_MODEL_10077808f89d4e69974b5f45a8224362",
            "value": 4852054
          }
        },
        "e9977e41f5ab4391b71888108a963b25": {
          "model_module": "@jupyter-widgets/controls",
          "model_name": "HTMLModel",
          "model_module_version": "1.5.0",
          "state": {
            "_dom_classes": [],
            "_model_module": "@jupyter-widgets/controls",
            "_model_module_version": "1.5.0",
            "_model_name": "HTMLModel",
            "_view_count": null,
            "_view_module": "@jupyter-widgets/controls",
            "_view_module_version": "1.5.0",
            "_view_name": "HTMLView",
            "description": "",
            "description_tooltip": null,
            "layout": "IPY_MODEL_8a9428b37bb44896bc905a0563ce0ec3",
            "placeholder": "​",
            "style": "IPY_MODEL_cf46333646f34a809631b68dd709067e",
            "value": " 4.85M/4.85M [00:00&lt;00:00, 107MB/s]"
          }
        },
        "5315ab6c42a64930a31ec8ed1b792bec": {
          "model_module": "@jupyter-widgets/base",
          "model_name": "LayoutModel",
          "model_module_version": "1.2.0",
          "state": {
            "_model_module": "@jupyter-widgets/base",
            "_model_module_version": "1.2.0",
            "_model_name": "LayoutModel",
            "_view_count": null,
            "_view_module": "@jupyter-widgets/base",
            "_view_module_version": "1.2.0",
            "_view_name": "LayoutView",
            "align_content": null,
            "align_items": null,
            "align_self": null,
            "border": null,
            "bottom": null,
            "display": null,
            "flex": null,
            "flex_flow": null,
            "grid_area": null,
            "grid_auto_columns": null,
            "grid_auto_flow": null,
            "grid_auto_rows": null,
            "grid_column": null,
            "grid_gap": null,
            "grid_row": null,
            "grid_template_areas": null,
            "grid_template_columns": null,
            "grid_template_rows": null,
            "height": null,
            "justify_content": null,
            "justify_items": null,
            "left": null,
            "margin": null,
            "max_height": null,
            "max_width": null,
            "min_height": null,
            "min_width": null,
            "object_fit": null,
            "object_position": null,
            "order": null,
            "overflow": null,
            "overflow_x": null,
            "overflow_y": null,
            "padding": null,
            "right": null,
            "top": null,
            "visibility": null,
            "width": null
          }
        },
        "e7bed917f22841999390815cbd85b281": {
          "model_module": "@jupyter-widgets/base",
          "model_name": "LayoutModel",
          "model_module_version": "1.2.0",
          "state": {
            "_model_module": "@jupyter-widgets/base",
            "_model_module_version": "1.2.0",
            "_model_name": "LayoutModel",
            "_view_count": null,
            "_view_module": "@jupyter-widgets/base",
            "_view_module_version": "1.2.0",
            "_view_name": "LayoutView",
            "align_content": null,
            "align_items": null,
            "align_self": null,
            "border": null,
            "bottom": null,
            "display": null,
            "flex": null,
            "flex_flow": null,
            "grid_area": null,
            "grid_auto_columns": null,
            "grid_auto_flow": null,
            "grid_auto_rows": null,
            "grid_column": null,
            "grid_gap": null,
            "grid_row": null,
            "grid_template_areas": null,
            "grid_template_columns": null,
            "grid_template_rows": null,
            "height": null,
            "justify_content": null,
            "justify_items": null,
            "left": null,
            "margin": null,
            "max_height": null,
            "max_width": null,
            "min_height": null,
            "min_width": null,
            "object_fit": null,
            "object_position": null,
            "order": null,
            "overflow": null,
            "overflow_x": null,
            "overflow_y": null,
            "padding": null,
            "right": null,
            "top": null,
            "visibility": null,
            "width": null
          }
        },
        "10ab96885491416e86992a880e4a2363": {
          "model_module": "@jupyter-widgets/controls",
          "model_name": "DescriptionStyleModel",
          "model_module_version": "1.5.0",
          "state": {
            "_model_module": "@jupyter-widgets/controls",
            "_model_module_version": "1.5.0",
            "_model_name": "DescriptionStyleModel",
            "_view_count": null,
            "_view_module": "@jupyter-widgets/base",
            "_view_module_version": "1.2.0",
            "_view_name": "StyleView",
            "description_width": ""
          }
        },
        "aadce1a613ea429db0fc4a16fb04080a": {
          "model_module": "@jupyter-widgets/base",
          "model_name": "LayoutModel",
          "model_module_version": "1.2.0",
          "state": {
            "_model_module": "@jupyter-widgets/base",
            "_model_module_version": "1.2.0",
            "_model_name": "LayoutModel",
            "_view_count": null,
            "_view_module": "@jupyter-widgets/base",
            "_view_module_version": "1.2.0",
            "_view_name": "LayoutView",
            "align_content": null,
            "align_items": null,
            "align_self": null,
            "border": null,
            "bottom": null,
            "display": null,
            "flex": null,
            "flex_flow": null,
            "grid_area": null,
            "grid_auto_columns": null,
            "grid_auto_flow": null,
            "grid_auto_rows": null,
            "grid_column": null,
            "grid_gap": null,
            "grid_row": null,
            "grid_template_areas": null,
            "grid_template_columns": null,
            "grid_template_rows": null,
            "height": null,
            "justify_content": null,
            "justify_items": null,
            "left": null,
            "margin": null,
            "max_height": null,
            "max_width": null,
            "min_height": null,
            "min_width": null,
            "object_fit": null,
            "object_position": null,
            "order": null,
            "overflow": null,
            "overflow_x": null,
            "overflow_y": null,
            "padding": null,
            "right": null,
            "top": null,
            "visibility": null,
            "width": null
          }
        },
        "10077808f89d4e69974b5f45a8224362": {
          "model_module": "@jupyter-widgets/controls",
          "model_name": "ProgressStyleModel",
          "model_module_version": "1.5.0",
          "state": {
            "_model_module": "@jupyter-widgets/controls",
            "_model_module_version": "1.5.0",
            "_model_name": "ProgressStyleModel",
            "_view_count": null,
            "_view_module": "@jupyter-widgets/base",
            "_view_module_version": "1.2.0",
            "_view_name": "StyleView",
            "bar_color": null,
            "description_width": ""
          }
        },
        "8a9428b37bb44896bc905a0563ce0ec3": {
          "model_module": "@jupyter-widgets/base",
          "model_name": "LayoutModel",
          "model_module_version": "1.2.0",
          "state": {
            "_model_module": "@jupyter-widgets/base",
            "_model_module_version": "1.2.0",
            "_model_name": "LayoutModel",
            "_view_count": null,
            "_view_module": "@jupyter-widgets/base",
            "_view_module_version": "1.2.0",
            "_view_name": "LayoutView",
            "align_content": null,
            "align_items": null,
            "align_self": null,
            "border": null,
            "bottom": null,
            "display": null,
            "flex": null,
            "flex_flow": null,
            "grid_area": null,
            "grid_auto_columns": null,
            "grid_auto_flow": null,
            "grid_auto_rows": null,
            "grid_column": null,
            "grid_gap": null,
            "grid_row": null,
            "grid_template_areas": null,
            "grid_template_columns": null,
            "grid_template_rows": null,
            "height": null,
            "justify_content": null,
            "justify_items": null,
            "left": null,
            "margin": null,
            "max_height": null,
            "max_width": null,
            "min_height": null,
            "min_width": null,
            "object_fit": null,
            "object_position": null,
            "order": null,
            "overflow": null,
            "overflow_x": null,
            "overflow_y": null,
            "padding": null,
            "right": null,
            "top": null,
            "visibility": null,
            "width": null
          }
        },
        "cf46333646f34a809631b68dd709067e": {
          "model_module": "@jupyter-widgets/controls",
          "model_name": "DescriptionStyleModel",
          "model_module_version": "1.5.0",
          "state": {
            "_model_module": "@jupyter-widgets/controls",
            "_model_module_version": "1.5.0",
            "_model_name": "DescriptionStyleModel",
            "_view_count": null,
            "_view_module": "@jupyter-widgets/base",
            "_view_module_version": "1.2.0",
            "_view_name": "StyleView",
            "description_width": ""
          }
        },
        "0baa891fa90c4d03b1c44655dad3d6e3": {
          "model_module": "@jupyter-widgets/controls",
          "model_name": "HBoxModel",
          "model_module_version": "1.5.0",
          "state": {
            "_dom_classes": [],
            "_model_module": "@jupyter-widgets/controls",
            "_model_module_version": "1.5.0",
            "_model_name": "HBoxModel",
            "_view_count": null,
            "_view_module": "@jupyter-widgets/controls",
            "_view_module_version": "1.5.0",
            "_view_name": "HBoxView",
            "box_style": "",
            "children": [
              "IPY_MODEL_820bb74973114871b6e92e1844a34631",
              "IPY_MODEL_fdb63e4f73e4429d8ff4e9b996f7e2a7",
              "IPY_MODEL_2a12aa41e80b4e4a81eb4b86189917fd"
            ],
            "layout": "IPY_MODEL_75fd56a5fa634a7690f951a754564fcb"
          }
        },
        "820bb74973114871b6e92e1844a34631": {
          "model_module": "@jupyter-widgets/controls",
          "model_name": "HTMLModel",
          "model_module_version": "1.5.0",
          "state": {
            "_dom_classes": [],
            "_model_module": "@jupyter-widgets/controls",
            "_model_module_version": "1.5.0",
            "_model_name": "HTMLModel",
            "_view_count": null,
            "_view_module": "@jupyter-widgets/controls",
            "_view_module_version": "1.5.0",
            "_view_name": "HTMLView",
            "description": "",
            "description_tooltip": null,
            "layout": "IPY_MODEL_3649c400a29b45c9bebe41197499f3fc",
            "placeholder": "​",
            "style": "IPY_MODEL_8b0bf4d127df4d189c30d88eb0ca157f",
            "value": "tokenizer.json: 100%"
          }
        },
        "fdb63e4f73e4429d8ff4e9b996f7e2a7": {
          "model_module": "@jupyter-widgets/controls",
          "model_name": "FloatProgressModel",
          "model_module_version": "1.5.0",
          "state": {
            "_dom_classes": [],
            "_model_module": "@jupyter-widgets/controls",
            "_model_module_version": "1.5.0",
            "_model_name": "FloatProgressModel",
            "_view_count": null,
            "_view_module": "@jupyter-widgets/controls",
            "_view_module_version": "1.5.0",
            "_view_name": "ProgressView",
            "bar_style": "success",
            "description": "",
            "description_tooltip": null,
            "layout": "IPY_MODEL_096fe6329771496ca14f3980611da917",
            "max": 17331176,
            "min": 0,
            "orientation": "horizontal",
            "style": "IPY_MODEL_f2acbbb988f84288971a11ff32004462",
            "value": 17331176
          }
        },
        "2a12aa41e80b4e4a81eb4b86189917fd": {
          "model_module": "@jupyter-widgets/controls",
          "model_name": "HTMLModel",
          "model_module_version": "1.5.0",
          "state": {
            "_dom_classes": [],
            "_model_module": "@jupyter-widgets/controls",
            "_model_module_version": "1.5.0",
            "_model_name": "HTMLModel",
            "_view_count": null,
            "_view_module": "@jupyter-widgets/controls",
            "_view_module_version": "1.5.0",
            "_view_name": "HTMLView",
            "description": "",
            "description_tooltip": null,
            "layout": "IPY_MODEL_212a6738957540a7b9702186b2bfccde",
            "placeholder": "​",
            "style": "IPY_MODEL_10ec0225cf6a458eba950c96fd1b10fe",
            "value": " 17.3M/17.3M [00:00&lt;00:00, 179MB/s]"
          }
        },
        "75fd56a5fa634a7690f951a754564fcb": {
          "model_module": "@jupyter-widgets/base",
          "model_name": "LayoutModel",
          "model_module_version": "1.2.0",
          "state": {
            "_model_module": "@jupyter-widgets/base",
            "_model_module_version": "1.2.0",
            "_model_name": "LayoutModel",
            "_view_count": null,
            "_view_module": "@jupyter-widgets/base",
            "_view_module_version": "1.2.0",
            "_view_name": "LayoutView",
            "align_content": null,
            "align_items": null,
            "align_self": null,
            "border": null,
            "bottom": null,
            "display": null,
            "flex": null,
            "flex_flow": null,
            "grid_area": null,
            "grid_auto_columns": null,
            "grid_auto_flow": null,
            "grid_auto_rows": null,
            "grid_column": null,
            "grid_gap": null,
            "grid_row": null,
            "grid_template_areas": null,
            "grid_template_columns": null,
            "grid_template_rows": null,
            "height": null,
            "justify_content": null,
            "justify_items": null,
            "left": null,
            "margin": null,
            "max_height": null,
            "max_width": null,
            "min_height": null,
            "min_width": null,
            "object_fit": null,
            "object_position": null,
            "order": null,
            "overflow": null,
            "overflow_x": null,
            "overflow_y": null,
            "padding": null,
            "right": null,
            "top": null,
            "visibility": null,
            "width": null
          }
        },
        "3649c400a29b45c9bebe41197499f3fc": {
          "model_module": "@jupyter-widgets/base",
          "model_name": "LayoutModel",
          "model_module_version": "1.2.0",
          "state": {
            "_model_module": "@jupyter-widgets/base",
            "_model_module_version": "1.2.0",
            "_model_name": "LayoutModel",
            "_view_count": null,
            "_view_module": "@jupyter-widgets/base",
            "_view_module_version": "1.2.0",
            "_view_name": "LayoutView",
            "align_content": null,
            "align_items": null,
            "align_self": null,
            "border": null,
            "bottom": null,
            "display": null,
            "flex": null,
            "flex_flow": null,
            "grid_area": null,
            "grid_auto_columns": null,
            "grid_auto_flow": null,
            "grid_auto_rows": null,
            "grid_column": null,
            "grid_gap": null,
            "grid_row": null,
            "grid_template_areas": null,
            "grid_template_columns": null,
            "grid_template_rows": null,
            "height": null,
            "justify_content": null,
            "justify_items": null,
            "left": null,
            "margin": null,
            "max_height": null,
            "max_width": null,
            "min_height": null,
            "min_width": null,
            "object_fit": null,
            "object_position": null,
            "order": null,
            "overflow": null,
            "overflow_x": null,
            "overflow_y": null,
            "padding": null,
            "right": null,
            "top": null,
            "visibility": null,
            "width": null
          }
        },
        "8b0bf4d127df4d189c30d88eb0ca157f": {
          "model_module": "@jupyter-widgets/controls",
          "model_name": "DescriptionStyleModel",
          "model_module_version": "1.5.0",
          "state": {
            "_model_module": "@jupyter-widgets/controls",
            "_model_module_version": "1.5.0",
            "_model_name": "DescriptionStyleModel",
            "_view_count": null,
            "_view_module": "@jupyter-widgets/base",
            "_view_module_version": "1.2.0",
            "_view_name": "StyleView",
            "description_width": ""
          }
        },
        "096fe6329771496ca14f3980611da917": {
          "model_module": "@jupyter-widgets/base",
          "model_name": "LayoutModel",
          "model_module_version": "1.2.0",
          "state": {
            "_model_module": "@jupyter-widgets/base",
            "_model_module_version": "1.2.0",
            "_model_name": "LayoutModel",
            "_view_count": null,
            "_view_module": "@jupyter-widgets/base",
            "_view_module_version": "1.2.0",
            "_view_name": "LayoutView",
            "align_content": null,
            "align_items": null,
            "align_self": null,
            "border": null,
            "bottom": null,
            "display": null,
            "flex": null,
            "flex_flow": null,
            "grid_area": null,
            "grid_auto_columns": null,
            "grid_auto_flow": null,
            "grid_auto_rows": null,
            "grid_column": null,
            "grid_gap": null,
            "grid_row": null,
            "grid_template_areas": null,
            "grid_template_columns": null,
            "grid_template_rows": null,
            "height": null,
            "justify_content": null,
            "justify_items": null,
            "left": null,
            "margin": null,
            "max_height": null,
            "max_width": null,
            "min_height": null,
            "min_width": null,
            "object_fit": null,
            "object_position": null,
            "order": null,
            "overflow": null,
            "overflow_x": null,
            "overflow_y": null,
            "padding": null,
            "right": null,
            "top": null,
            "visibility": null,
            "width": null
          }
        },
        "f2acbbb988f84288971a11ff32004462": {
          "model_module": "@jupyter-widgets/controls",
          "model_name": "ProgressStyleModel",
          "model_module_version": "1.5.0",
          "state": {
            "_model_module": "@jupyter-widgets/controls",
            "_model_module_version": "1.5.0",
            "_model_name": "ProgressStyleModel",
            "_view_count": null,
            "_view_module": "@jupyter-widgets/base",
            "_view_module_version": "1.2.0",
            "_view_name": "StyleView",
            "bar_color": null,
            "description_width": ""
          }
        },
        "212a6738957540a7b9702186b2bfccde": {
          "model_module": "@jupyter-widgets/base",
          "model_name": "LayoutModel",
          "model_module_version": "1.2.0",
          "state": {
            "_model_module": "@jupyter-widgets/base",
            "_model_module_version": "1.2.0",
            "_model_name": "LayoutModel",
            "_view_count": null,
            "_view_module": "@jupyter-widgets/base",
            "_view_module_version": "1.2.0",
            "_view_name": "LayoutView",
            "align_content": null,
            "align_items": null,
            "align_self": null,
            "border": null,
            "bottom": null,
            "display": null,
            "flex": null,
            "flex_flow": null,
            "grid_area": null,
            "grid_auto_columns": null,
            "grid_auto_flow": null,
            "grid_auto_rows": null,
            "grid_column": null,
            "grid_gap": null,
            "grid_row": null,
            "grid_template_areas": null,
            "grid_template_columns": null,
            "grid_template_rows": null,
            "height": null,
            "justify_content": null,
            "justify_items": null,
            "left": null,
            "margin": null,
            "max_height": null,
            "max_width": null,
            "min_height": null,
            "min_width": null,
            "object_fit": null,
            "object_position": null,
            "order": null,
            "overflow": null,
            "overflow_x": null,
            "overflow_y": null,
            "padding": null,
            "right": null,
            "top": null,
            "visibility": null,
            "width": null
          }
        },
        "10ec0225cf6a458eba950c96fd1b10fe": {
          "model_module": "@jupyter-widgets/controls",
          "model_name": "DescriptionStyleModel",
          "model_module_version": "1.5.0",
          "state": {
            "_model_module": "@jupyter-widgets/controls",
            "_model_module_version": "1.5.0",
            "_model_name": "DescriptionStyleModel",
            "_view_count": null,
            "_view_module": "@jupyter-widgets/base",
            "_view_module_version": "1.2.0",
            "_view_name": "StyleView",
            "description_width": ""
          }
        },
        "9670448e62bc4c25a974daa494984c6a": {
          "model_module": "@jupyter-widgets/controls",
          "model_name": "HBoxModel",
          "model_module_version": "1.5.0",
          "state": {
            "_dom_classes": [],
            "_model_module": "@jupyter-widgets/controls",
            "_model_module_version": "1.5.0",
            "_model_name": "HBoxModel",
            "_view_count": null,
            "_view_module": "@jupyter-widgets/controls",
            "_view_module_version": "1.5.0",
            "_view_name": "HBoxView",
            "box_style": "",
            "children": [
              "IPY_MODEL_848537dd3ced4413b3e127c3414d2988",
              "IPY_MODEL_20513ca3cb8a46fa9f030a7e1e15add7",
              "IPY_MODEL_12c067ab38404fa48d6283761f1bae1b"
            ],
            "layout": "IPY_MODEL_c833ed6bd6204a20945b6172032ed9dd"
          }
        },
        "848537dd3ced4413b3e127c3414d2988": {
          "model_module": "@jupyter-widgets/controls",
          "model_name": "HTMLModel",
          "model_module_version": "1.5.0",
          "state": {
            "_dom_classes": [],
            "_model_module": "@jupyter-widgets/controls",
            "_model_module_version": "1.5.0",
            "_model_name": "HTMLModel",
            "_view_count": null,
            "_view_module": "@jupyter-widgets/controls",
            "_view_module_version": "1.5.0",
            "_view_name": "HTMLView",
            "description": "",
            "description_tooltip": null,
            "layout": "IPY_MODEL_15139904420940e49c8ecde1d47f242e",
            "placeholder": "​",
            "style": "IPY_MODEL_0b7bd5c3f81848438f9c2efa326206a7",
            "value": "special_tokens_map.json: 100%"
          }
        },
        "20513ca3cb8a46fa9f030a7e1e15add7": {
          "model_module": "@jupyter-widgets/controls",
          "model_name": "FloatProgressModel",
          "model_module_version": "1.5.0",
          "state": {
            "_dom_classes": [],
            "_model_module": "@jupyter-widgets/controls",
            "_model_module_version": "1.5.0",
            "_model_name": "FloatProgressModel",
            "_view_count": null,
            "_view_module": "@jupyter-widgets/controls",
            "_view_module_version": "1.5.0",
            "_view_name": "ProgressView",
            "bar_style": "success",
            "description": "",
            "description_tooltip": null,
            "layout": "IPY_MODEL_087ecdeb5b594c2f82abd620d02ca5f5",
            "max": 3548,
            "min": 0,
            "orientation": "horizontal",
            "style": "IPY_MODEL_c3157294437d42e5b48ceaa35defafb2",
            "value": 3548
          }
        },
        "12c067ab38404fa48d6283761f1bae1b": {
          "model_module": "@jupyter-widgets/controls",
          "model_name": "HTMLModel",
          "model_module_version": "1.5.0",
          "state": {
            "_dom_classes": [],
            "_model_module": "@jupyter-widgets/controls",
            "_model_module_version": "1.5.0",
            "_model_name": "HTMLModel",
            "_view_count": null,
            "_view_module": "@jupyter-widgets/controls",
            "_view_module_version": "1.5.0",
            "_view_name": "HTMLView",
            "description": "",
            "description_tooltip": null,
            "layout": "IPY_MODEL_f6abbd3100144803be6f2cc1d128baca",
            "placeholder": "​",
            "style": "IPY_MODEL_72ad089db65f40f59c69bd8df5e48db7",
            "value": " 3.55k/3.55k [00:00&lt;00:00, 256kB/s]"
          }
        },
        "c833ed6bd6204a20945b6172032ed9dd": {
          "model_module": "@jupyter-widgets/base",
          "model_name": "LayoutModel",
          "model_module_version": "1.2.0",
          "state": {
            "_model_module": "@jupyter-widgets/base",
            "_model_module_version": "1.2.0",
            "_model_name": "LayoutModel",
            "_view_count": null,
            "_view_module": "@jupyter-widgets/base",
            "_view_module_version": "1.2.0",
            "_view_name": "LayoutView",
            "align_content": null,
            "align_items": null,
            "align_self": null,
            "border": null,
            "bottom": null,
            "display": null,
            "flex": null,
            "flex_flow": null,
            "grid_area": null,
            "grid_auto_columns": null,
            "grid_auto_flow": null,
            "grid_auto_rows": null,
            "grid_column": null,
            "grid_gap": null,
            "grid_row": null,
            "grid_template_areas": null,
            "grid_template_columns": null,
            "grid_template_rows": null,
            "height": null,
            "justify_content": null,
            "justify_items": null,
            "left": null,
            "margin": null,
            "max_height": null,
            "max_width": null,
            "min_height": null,
            "min_width": null,
            "object_fit": null,
            "object_position": null,
            "order": null,
            "overflow": null,
            "overflow_x": null,
            "overflow_y": null,
            "padding": null,
            "right": null,
            "top": null,
            "visibility": null,
            "width": null
          }
        },
        "15139904420940e49c8ecde1d47f242e": {
          "model_module": "@jupyter-widgets/base",
          "model_name": "LayoutModel",
          "model_module_version": "1.2.0",
          "state": {
            "_model_module": "@jupyter-widgets/base",
            "_model_module_version": "1.2.0",
            "_model_name": "LayoutModel",
            "_view_count": null,
            "_view_module": "@jupyter-widgets/base",
            "_view_module_version": "1.2.0",
            "_view_name": "LayoutView",
            "align_content": null,
            "align_items": null,
            "align_self": null,
            "border": null,
            "bottom": null,
            "display": null,
            "flex": null,
            "flex_flow": null,
            "grid_area": null,
            "grid_auto_columns": null,
            "grid_auto_flow": null,
            "grid_auto_rows": null,
            "grid_column": null,
            "grid_gap": null,
            "grid_row": null,
            "grid_template_areas": null,
            "grid_template_columns": null,
            "grid_template_rows": null,
            "height": null,
            "justify_content": null,
            "justify_items": null,
            "left": null,
            "margin": null,
            "max_height": null,
            "max_width": null,
            "min_height": null,
            "min_width": null,
            "object_fit": null,
            "object_position": null,
            "order": null,
            "overflow": null,
            "overflow_x": null,
            "overflow_y": null,
            "padding": null,
            "right": null,
            "top": null,
            "visibility": null,
            "width": null
          }
        },
        "0b7bd5c3f81848438f9c2efa326206a7": {
          "model_module": "@jupyter-widgets/controls",
          "model_name": "DescriptionStyleModel",
          "model_module_version": "1.5.0",
          "state": {
            "_model_module": "@jupyter-widgets/controls",
            "_model_module_version": "1.5.0",
            "_model_name": "DescriptionStyleModel",
            "_view_count": null,
            "_view_module": "@jupyter-widgets/base",
            "_view_module_version": "1.2.0",
            "_view_name": "StyleView",
            "description_width": ""
          }
        },
        "087ecdeb5b594c2f82abd620d02ca5f5": {
          "model_module": "@jupyter-widgets/base",
          "model_name": "LayoutModel",
          "model_module_version": "1.2.0",
          "state": {
            "_model_module": "@jupyter-widgets/base",
            "_model_module_version": "1.2.0",
            "_model_name": "LayoutModel",
            "_view_count": null,
            "_view_module": "@jupyter-widgets/base",
            "_view_module_version": "1.2.0",
            "_view_name": "LayoutView",
            "align_content": null,
            "align_items": null,
            "align_self": null,
            "border": null,
            "bottom": null,
            "display": null,
            "flex": null,
            "flex_flow": null,
            "grid_area": null,
            "grid_auto_columns": null,
            "grid_auto_flow": null,
            "grid_auto_rows": null,
            "grid_column": null,
            "grid_gap": null,
            "grid_row": null,
            "grid_template_areas": null,
            "grid_template_columns": null,
            "grid_template_rows": null,
            "height": null,
            "justify_content": null,
            "justify_items": null,
            "left": null,
            "margin": null,
            "max_height": null,
            "max_width": null,
            "min_height": null,
            "min_width": null,
            "object_fit": null,
            "object_position": null,
            "order": null,
            "overflow": null,
            "overflow_x": null,
            "overflow_y": null,
            "padding": null,
            "right": null,
            "top": null,
            "visibility": null,
            "width": null
          }
        },
        "c3157294437d42e5b48ceaa35defafb2": {
          "model_module": "@jupyter-widgets/controls",
          "model_name": "ProgressStyleModel",
          "model_module_version": "1.5.0",
          "state": {
            "_model_module": "@jupyter-widgets/controls",
            "_model_module_version": "1.5.0",
            "_model_name": "ProgressStyleModel",
            "_view_count": null,
            "_view_module": "@jupyter-widgets/base",
            "_view_module_version": "1.2.0",
            "_view_name": "StyleView",
            "bar_color": null,
            "description_width": ""
          }
        },
        "f6abbd3100144803be6f2cc1d128baca": {
          "model_module": "@jupyter-widgets/base",
          "model_name": "LayoutModel",
          "model_module_version": "1.2.0",
          "state": {
            "_model_module": "@jupyter-widgets/base",
            "_model_module_version": "1.2.0",
            "_model_name": "LayoutModel",
            "_view_count": null,
            "_view_module": "@jupyter-widgets/base",
            "_view_module_version": "1.2.0",
            "_view_name": "LayoutView",
            "align_content": null,
            "align_items": null,
            "align_self": null,
            "border": null,
            "bottom": null,
            "display": null,
            "flex": null,
            "flex_flow": null,
            "grid_area": null,
            "grid_auto_columns": null,
            "grid_auto_flow": null,
            "grid_auto_rows": null,
            "grid_column": null,
            "grid_gap": null,
            "grid_row": null,
            "grid_template_areas": null,
            "grid_template_columns": null,
            "grid_template_rows": null,
            "height": null,
            "justify_content": null,
            "justify_items": null,
            "left": null,
            "margin": null,
            "max_height": null,
            "max_width": null,
            "min_height": null,
            "min_width": null,
            "object_fit": null,
            "object_position": null,
            "order": null,
            "overflow": null,
            "overflow_x": null,
            "overflow_y": null,
            "padding": null,
            "right": null,
            "top": null,
            "visibility": null,
            "width": null
          }
        },
        "72ad089db65f40f59c69bd8df5e48db7": {
          "model_module": "@jupyter-widgets/controls",
          "model_name": "DescriptionStyleModel",
          "model_module_version": "1.5.0",
          "state": {
            "_model_module": "@jupyter-widgets/controls",
            "_model_module_version": "1.5.0",
            "_model_name": "DescriptionStyleModel",
            "_view_count": null,
            "_view_module": "@jupyter-widgets/base",
            "_view_module_version": "1.2.0",
            "_view_name": "StyleView",
            "description_width": ""
          }
        }
      }
    }
  },
  "nbformat": 4,
  "nbformat_minor": 0
}